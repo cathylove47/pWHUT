{
 "cells": [
  {
   "cell_type": "code",
   "execution_count": null,
   "metadata": {
    "collapsed": true,
    "pycharm": {
     "name": "#%%\n"
    }
   },
   "outputs": [],
   "source": [
    "from PIL import Image\n",
    "import matplotlib.pyplot as plt"
   ]
  },
  {
   "cell_type": "code",
   "execution_count": null,
   "outputs": [],
   "source": [
    "input_secret_text_path = \"./test/input_wut.txt\"\n",
    "output_secret_text_path = \"./test/output_wut.txt\"\n",
    "raw_img_path = \"./test/raw_img.jpg\"\n",
    "mod_img_path = \"./test/mod_img.jpg\"\n",
    "img_raw_and_mod_compare_path = \"./test/img_raw_and_mod_compare.png\"\n",
    "eof_str = \"00000000\"\n",
    "eof = chr(int(eof_str, 2))\n"
   ],
   "metadata": {
    "collapsed": false,
    "pycharm": {
     "name": "#%%\n"
    }
   }
  },
  {
   "cell_type": "code",
   "execution_count": null,
   "outputs": [],
   "source": [
    "\"\"\"\n",
    "将中文文本转化为二进制文本\n",
    "\"\"\"\n",
    "def text_to_binary(text):\n",
    "    binary_text = \"\"\n",
    "    for char in text:\n",
    "        binary_char = bin(ord(char))[2:]\n",
    "        binary_char = \"0\" * (8 - len(binary_char)) + binary_char\n",
    "        binary_text += binary_char\n",
    "    return binary_text\n",
    "txt = \"你好\"\n",
    "print(text_to_binary(txt))"
   ],
   "metadata": {
    "collapsed": false,
    "pycharm": {
     "name": "#%%\n"
    }
   }
  },
  {
   "cell_type": "code",
   "execution_count": null,
   "outputs": [],
   "source": [
    "\"\"\"\n",
    "将二进制文本转化为utf-8文本\n",
    "\"\"\"\n",
    "def binary_to_text(binary_text):\n",
    "    text = \"\"\n",
    "    for i in range(0, len(binary_text), 8):\n",
    "        char = binary_text[i:i+8]\n",
    "        char = chr(int(char, 2))\n",
    "        text += char\n",
    "    return text\n",
    "binary_txt = \"11100100101100001011011100100000\"\n",
    "print(binary_to_text(binary_txt))"
   ],
   "metadata": {
    "collapsed": false,
    "pycharm": {
     "name": "#%%\n"
    }
   }
  },
  {
   "cell_type": "markdown",
   "source": [],
   "metadata": {
    "collapsed": false,
    "pycharm": {
     "name": "#%% md\n"
    }
   }
  },
  {
   "cell_type": "code",
   "execution_count": 29,
   "outputs": [
    {
     "name": "stdout",
     "output_type": "stream",
     "text": [
      "b'Hello world!'\n"
     ]
    }
   ],
   "source": [
    "from stegano import exifHeader\n",
    "secret = exifHeader.hide(\"raw_pic.jpg\",\n",
    "                        \"image.jpg\", secret_message=\"Hello world!\")\n",
    "print(exifHeader.reveal(\"image.jpg\"))"
   ],
   "metadata": {
    "collapsed": false,
    "pycharm": {
     "name": "#%%\n"
    }
   }
  },
  {
   "cell_type": "code",
   "execution_count": null,
   "outputs": [],
   "source": [
    "from stegano.lsb import lsb\n",
    "import base64\n",
    "from stegano import exifHeader\n",
    "# 读取xianfa.txt中的文本\n",
    "with open(\"xianfa.txt\", \"r\", encoding=\"utf-8\") as f:\n",
    "    message = f.read()\n",
    "message = base64.b64encode(message.encode('utf-8'))\n",
    "\n",
    "secret = exifHeader.hide(\"raw_pic.jpg\",\n",
    "                        \"image1.jpg\", secret_message=message)\n",
    "# 将隐藏信息的图片中的信息转化为中文\n",
    "\n",
    "print(base64.b64decode(exifHeader.reveal(\"image1.jpg\")).decode('utf-8'))\n"
   ],
   "metadata": {
    "collapsed": false,
    "pycharm": {
     "name": "#%%\n"
    }
   }
  },
  {
   "cell_type": "code",
   "execution_count": 43,
   "outputs": [
    {
     "name": "stdout",
     "output_type": "stream",
     "text": [
      "2.4999388789996484\n"
     ]
    }
   ],
   "source": [
    "\n",
    "# 计算raw_pic.jpg与image1.jpg的差异\n",
    "from PIL import Image\n",
    "import numpy as np\n",
    "raw_pic = Image.open(\"raw_pic.jpg\")\n",
    "image1 = Image.open(\"image1.jpg\")\n",
    "# 计算mse\n",
    "raw_pic = np.array(raw_pic)\n",
    "image1 = np.array(image1)\n",
    "mse = np.mean((raw_pic - image1) ** 2)\n",
    "print(mse)\n",
    "\n"
   ],
   "metadata": {
    "collapsed": false,
    "pycharm": {
     "name": "#%%\n"
    }
   }
  },
  {
   "cell_type": "code",
   "execution_count": 44,
   "outputs": [],
   "source": [
    "\"\"\"\n",
    "读取jpg图像,解压压缩后得到DCT系数\n",
    "\"\"\"\n",
    "import cv2\n",
    "import numpy as np\n",
    "import matplotlib.pyplot as plt\n",
    "\n",
    "# 读取图片\n",
    "img = cv2.imread(\"raw_pic.jpg\", 0)\n",
    "# 将图片分成8*8"
   ],
   "metadata": {
    "collapsed": false,
    "pycharm": {
     "name": "#%%\n"
    }
   }
  },
  {
   "cell_type": "code",
   "execution_count": null,
   "outputs": [],
   "source": [],
   "metadata": {
    "collapsed": false,
    "pycharm": {
     "name": "#%%\n"
    }
   }
  }
 ],
 "metadata": {
  "kernelspec": {
   "display_name": "Python 3",
   "language": "python",
   "name": "python3"
  },
  "language_info": {
   "codemirror_mode": {
    "name": "ipython",
    "version": 2
   },
   "file_extension": ".py",
   "mimetype": "text/x-python",
   "name": "python",
   "nbconvert_exporter": "python",
   "pygments_lexer": "ipython2",
   "version": "2.7.6"
  }
 },
 "nbformat": 4,
 "nbformat_minor": 0
}