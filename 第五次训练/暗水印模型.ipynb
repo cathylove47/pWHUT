{
 "cells": [
  {
   "cell_type": "code",
   "execution_count": 5,
   "metadata": {
    "collapsed": true,
    "pycharm": {
     "name": "#%%\n"
    }
   },
   "outputs": [],
   "source": [
    "\n",
    "from PIL import Image\n",
    "import numpy as np\n",
    "import math\n",
    "from PIL import ImageFont, ImageDraw\n",
    "import cv2"
   ]
  },
  {
   "cell_type": "code",
   "execution_count": 4,
   "outputs": [],
   "source": [
    "\"\"\"\n",
    "生成 武汉理工大学数学建模 的水印图片\n",
    "\"\"\"\n",
    "def create_watermark(text, font_path, font_size=26, opacity=100):\n",
    "    # Calculate lines\n",
    "    n = int(math.sqrt(len(text))) + 1\n",
    "    lines = [text[i:i + n] for i in range(0, len(text), n)]\n",
    "    # Create a blank image with white background\n",
    "    width, height = n * font_size, n * font_size\n",
    "    img = Image.new('RGBA', (width, height), (255, 255, 255))\n",
    "    # Load font\n",
    "    font = ImageFont.truetype(font_path, font_size)\n",
    "    # Initialize ImageDraw\n",
    "    draw = ImageDraw.Draw(img)\n",
    "    # Set text color\n",
    "    text_color = (0, 0, 0, opacity)\n",
    "    # Draw text on image\n",
    "    for i, line in enumerate(lines):\n",
    "        # Calculate the width of the line\n",
    "        text_bbox = draw.textbbox((0, 0), line, font)\n",
    "        line_width = text_bbox[2] - text_bbox[0]\n",
    "        # Calculate the x coordinate to center the line\n",
    "        x = (width - line_width) / 2\n",
    "        draw.text((x, i * font_size), line, font=font, fill=text_color)\n",
    "    # Save the image\n",
    "    img.save('watermark.png', 'PNG')\n",
    "# 生成带有武汉理工大学建模的水印图片,保存在桌面\n",
    "# create_watermark('武汉理工大学数学建模', 'C:/Windows/Fonts/simhei.ttf', font_size=26, opacity=100)\n"
   ],
   "metadata": {
    "collapsed": false,
    "pycharm": {
     "name": "#%%\n"
    }
   }
  },
  {
   "cell_type": "code",
   "execution_count": 22,
   "outputs": [],
   "source": [
    "\"\"\"\n",
    "进行DCT变换并嵌入水印\n",
    "\"\"\"\n",
    "# 定义一维dct变换函数\n",
    "def dct(signal, axis=0):\n",
    "    N = signal.shape[axis]\n",
    "    dct_result = np.zeros_like(signal)\n",
    "\n",
    "    for k in range(N):\n",
    "        sum_value = 0\n",
    "        for n in range(N):\n",
    "            idx = [slice(None)] * signal.ndim  # 创建切片索引\n",
    "            idx[axis] = n\n",
    "            sum_value += signal[tuple(idx)] * np.cos((np.pi / N) * (n + 0.5) * k)\n",
    "        if k == 0:\n",
    "            dct_result[tuple(idx)] = sum_value / np.sqrt(N)\n",
    "        else:\n",
    "            dct_result[tuple(idx)] = sum_value * np.sqrt(2/N)\n",
    "\n",
    "    return dct_result\n",
    "# 对原始图像执行离散余弦变换（DCT）\n",
    "def perform_dct(original_array):\n",
    "    height, width, _ = original_array.shape\n",
    "    dct_blocks = np.empty_like(original_array, dtype=np.float64)\n",
    "    # 对dct_blocks的整体进行dct\n",
    "    dct_blocks = cv2.dct(original_array.astype(np.float64))\n",
    "    return dct_blocks\n",
    "\n",
    "\n",
    "\"\"\"\n",
    "定义图像读取函数\n",
    "\"\"\"\n",
    "def load_image(image_path):\n",
    "    return Image.open(image_path)\n",
    "\"\"\"\n",
    "定义图像转换数组函数\n",
    "\"\"\"\n",
    "def image_to_array(image):\n",
    "    return np.asarray(image, dtype=np.float64)\n",
    "# 定义数组转换图像函数\n",
    "def array_to_image(array):\n",
    "    array = array.clip(0, 255)\n",
    "    array = array.astype('uint8')\n",
    "    return Image.fromarray(array)\n",
    "# 定义提取水印函数\n",
    "def extract_watermark(dct_blocks_with_watermark, original_dct_blocks, alpha=0.05):\n",
    "    watermark_blocks = (dct_blocks_with_watermark - original_dct_blocks) / alpha\n",
    "    watermark_array = np.zeros_like(original_dct_blocks, dtype=np.float64)\n",
    "    watermark_array[::8, ::8] = watermark_blocks[::8, ::8]\n",
    "    return watermark_array\n",
    "# 定义裁剪和转换函数\n",
    "def clip_and_convert(watermark_array):\n",
    "    watermark_array = watermark_array.clip(-255, 255)\n",
    "    watermark_array = watermark_array.astype('int16')\n",
    "    watermark_array[::8, ::8] = watermark_array[::8, ::8] / 100\n",
    "    return watermark_array\n",
    "\n",
    "# 将水印嵌入到DCT块中\n",
    "def embed_watermark(dct_blocks, watermark_array, alpha=0.05):\n",
    "    dct_blocks_with_watermark = dct_blocks.copy()\n",
    "    dct_blocks_with_watermark[::8, ::8] += alpha * watermark_array\n",
    "    return dct_blocks_with_watermark\n",
    "# 将水印嵌入后的DCT块转换回图像\n",
    "def perform_idct(dct_blocks_with_watermark):\n",
    "    height, width, _ = dct_blocks_with_watermark.shape\n",
    "    idct_blocks_with_watermark = np.empty_like(dct_blocks_with_watermark, dtype=np.float64)\n",
    "    # 对dct_blocks_with_watermark的整体进行idct\n",
    "    idct_blocks_with_watermark = cv2.idct(dct_blocks_with_watermark.astype(np.float64))\n",
    "    return idct_blocks_with_watermark\n",
    "\n",
    "    return idct_blocks_with_watermark\n",
    "def process_images(image_with_watermark_path, original_image_path, alpha=0.05):\n",
    "    # 加载图像\n",
    "    image_with_watermark = load_image(image_with_watermark_path)\n",
    "    original_image = load_image(original_image_path)\n",
    "    # 将图像转换为数组\n",
    "    image_with_watermark_array = image_to_array(image_with_watermark)\n",
    "    original_array = image_to_array(original_image)\n",
    "    # 对图像执行DCT\n",
    "    dct_blocks_with_watermark = perform_dct(image_with_watermark_array)\n",
    "    original_dct_blocks = perform_dct(original_array)\n",
    "    # 提取水印\n",
    "    watermark_array = extract_watermark(dct_blocks_with_watermark, original_dct_blocks, alpha)\n",
    "    # 裁剪和转换图像\n",
    "    watermark_array = clip_and_convert(watermark_array)\n",
    "    # 将数组转换回图像\n",
    "    watermark_image = array_to_image(watermark_array)\n",
    "    return watermark_image\n",
    "\"\"\"\n",
    "将水印嵌入到图像中\n",
    "\"\"\"\n",
    "def embed_watermark_in_image(image_path, watermark_path, alpha=0.05):\n",
    "    # 加载图像\n",
    "    image = load_image(image_path)\n",
    "    watermark = load_image(watermark_path)\n",
    "    # 将图像转换为数组\n",
    "    image_array = image_to_array(image)\n",
    "    watermark_array = image_to_array(watermark)\n",
    "    # 对图像执行DCT\n",
    "    dct_blocks = perform_dct(image_array)\n",
    "    # 将水印嵌入到DCT块中\n",
    "    dct_blocks_with_watermark = embed_watermark(dct_blocks, watermark_array, alpha)\n",
    "    # 将DCT块转换回图像\n",
    "    image_with_watermark_array = perform_idct(dct_blocks_with_watermark)\n",
    "    # 将数组转换回图像\n",
    "    image_with_watermark = array_to_image(image_with_watermark_array)\n",
    "    return image_with_watermark"
   ],
   "metadata": {
    "collapsed": false,
    "pycharm": {
     "name": "#%%\n"
    }
   }
  },
  {
   "cell_type": "code",
   "execution_count": 23,
   "outputs": [
    {
     "ename": "error",
     "evalue": "OpenCV(4.8.0) D:\\a\\opencv-python\\opencv-python\\opencv\\modules\\core\\src\\dxt.cpp:4417: error: (-215:Assertion failed) type == CV_32FC1 || type == CV_64FC1 in function 'cv::dct'\n",
     "output_type": "error",
     "traceback": [
      "\u001B[1;31m---------------------------------------------------------------------------\u001B[0m",
      "\u001B[1;31merror\u001B[0m                                     Traceback (most recent call last)",
      "Cell \u001B[1;32mIn[23], line 5\u001B[0m\n\u001B[0;32m      1\u001B[0m \u001B[38;5;124;03m\"\"\"\u001B[39;00m\n\u001B[0;32m      2\u001B[0m \u001B[38;5;124;03m水印是watermark.png,原图片是raw_pic.jpg\u001B[39;00m\n\u001B[0;32m      3\u001B[0m \u001B[38;5;124;03m\"\"\"\u001B[39;00m\n\u001B[0;32m      4\u001B[0m \u001B[38;5;66;03m# 将水印嵌入到图像中\u001B[39;00m\n\u001B[1;32m----> 5\u001B[0m image_with_watermark \u001B[38;5;241m=\u001B[39m \u001B[43membed_watermark_in_image\u001B[49m\u001B[43m(\u001B[49m\u001B[38;5;124;43m'\u001B[39;49m\u001B[38;5;124;43mraw_pic.jpg\u001B[39;49m\u001B[38;5;124;43m'\u001B[39;49m\u001B[43m,\u001B[49m\u001B[43m \u001B[49m\u001B[38;5;124;43m'\u001B[39;49m\u001B[38;5;124;43mwatermark.png\u001B[39;49m\u001B[38;5;124;43m'\u001B[39;49m\u001B[43m)\u001B[49m\n",
      "Cell \u001B[1;32mIn[22], line 100\u001B[0m, in \u001B[0;36membed_watermark_in_image\u001B[1;34m(image_path, watermark_path, alpha)\u001B[0m\n\u001B[0;32m     98\u001B[0m watermark_array \u001B[38;5;241m=\u001B[39m image_to_array(watermark)\n\u001B[0;32m     99\u001B[0m \u001B[38;5;66;03m# 对图像执行DCT\u001B[39;00m\n\u001B[1;32m--> 100\u001B[0m dct_blocks \u001B[38;5;241m=\u001B[39m \u001B[43mperform_dct\u001B[49m\u001B[43m(\u001B[49m\u001B[43mimage_array\u001B[49m\u001B[43m)\u001B[49m\n\u001B[0;32m    101\u001B[0m \u001B[38;5;66;03m# 将水印嵌入到DCT块中\u001B[39;00m\n\u001B[0;32m    102\u001B[0m dct_blocks_with_watermark \u001B[38;5;241m=\u001B[39m embed_watermark(dct_blocks, watermark_array, alpha)\n",
      "Cell \u001B[1;32mIn[22], line 26\u001B[0m, in \u001B[0;36mperform_dct\u001B[1;34m(original_array)\u001B[0m\n\u001B[0;32m     24\u001B[0m dct_blocks \u001B[38;5;241m=\u001B[39m np\u001B[38;5;241m.\u001B[39mempty_like(original_array, dtype\u001B[38;5;241m=\u001B[39mnp\u001B[38;5;241m.\u001B[39mfloat64)\n\u001B[0;32m     25\u001B[0m \u001B[38;5;66;03m# 对dct_blocks的整体进行dct\u001B[39;00m\n\u001B[1;32m---> 26\u001B[0m dct_blocks \u001B[38;5;241m=\u001B[39m \u001B[43mcv2\u001B[49m\u001B[38;5;241;43m.\u001B[39;49m\u001B[43mdct\u001B[49m\u001B[43m(\u001B[49m\u001B[43moriginal_array\u001B[49m\u001B[38;5;241;43m.\u001B[39;49m\u001B[43mastype\u001B[49m\u001B[43m(\u001B[49m\u001B[43mnp\u001B[49m\u001B[38;5;241;43m.\u001B[39;49m\u001B[43mfloat64\u001B[49m\u001B[43m)\u001B[49m\u001B[43m)\u001B[49m\n\u001B[0;32m     27\u001B[0m \u001B[38;5;28;01mreturn\u001B[39;00m dct_blocks\n",
      "\u001B[1;31merror\u001B[0m: OpenCV(4.8.0) D:\\a\\opencv-python\\opencv-python\\opencv\\modules\\core\\src\\dxt.cpp:4417: error: (-215:Assertion failed) type == CV_32FC1 || type == CV_64FC1 in function 'cv::dct'\n"
     ]
    }
   ],
   "source": [
    "\"\"\"\n",
    "水印是watermark.png,原图片是raw_pic.jpg\n",
    "\"\"\"\n",
    "# 将水印嵌入到图像中\n",
    "image_with_watermark = embed_watermark_in_image('raw_pic.jpg', 'watermark.png')"
   ],
   "metadata": {
    "collapsed": false,
    "pycharm": {
     "name": "#%%\n"
    }
   }
  },
  {
   "cell_type": "code",
   "execution_count": null,
   "outputs": [],
   "source": [],
   "metadata": {
    "collapsed": false,
    "pycharm": {
     "name": "#%%\n",
     "is_executing": true
    }
   }
  },
  {
   "cell_type": "code",
   "execution_count": null,
   "outputs": [],
   "source": [],
   "metadata": {
    "collapsed": false,
    "pycharm": {
     "name": "#%%\n"
    }
   }
  }
 ],
 "metadata": {
  "kernelspec": {
   "display_name": "Python 3",
   "language": "python",
   "name": "python3"
  },
  "language_info": {
   "codemirror_mode": {
    "name": "ipython",
    "version": 2
   },
   "file_extension": ".py",
   "mimetype": "text/x-python",
   "name": "python",
   "nbconvert_exporter": "python",
   "pygments_lexer": "ipython2",
   "version": "2.7.6"
  }
 },
 "nbformat": 4,
 "nbformat_minor": 0
}