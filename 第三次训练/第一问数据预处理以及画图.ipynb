{
 "cells": [
  {
   "cell_type": "code",
   "execution_count": null,
   "metadata": {
    "collapsed": true,
    "pycharm": {
     "name": "#%%\n"
    }
   },
   "outputs": [],
   "source": [
    "\"\"\"\n",
    "author: 陈凯鑫\n",
    "datetime: 2023-8-6\n",
    "假期应该多陪陪家人,而不是为了一个不确定的机会去挣扎\n",
    "\"\"\"\n",
    "import pandas as pd\n",
    "import numpy as np\n",
    "import matplotlib.pyplot as plt\n",
    "import seaborn as sns\n",
    "# 设置中文字体\n",
    "plt.rcParams['font.sans-serif'] = ['SimHei']\n",
    "# 设置图片dpi\n",
    "plt.rcParams['figure.dpi'] = 300"
   ]
  },
  {
   "cell_type": "code",
   "execution_count": null,
   "outputs": [],
   "source": [
    "\"\"\"\n",
    "读取excel文件 附件2 慢性病及相关因素流调数据.xlsx\n",
    "\"\"\"\n",
    "df_food_raw = pd.read_excel('附件2 慢性病及相关因素流调数据.xlsx',sheet_name='饮食习惯')\n",
    "# 不读取后面7列\n",
    "df_food = df_food_raw.iloc[:,:-7]\n",
    "print(df_food.head())"
   ],
   "metadata": {
    "collapsed": false,
    "pycharm": {
     "name": "#%%\n"
    }
   }
  },
  {
   "cell_type": "code",
   "execution_count": null,
   "outputs": [],
   "source": [
    "\"\"\"\n",
    "进行数据缺失值填补或者纠错\n",
    "如果使存在使用大米的频率不为缺失值,那么吃大米就为1,否则为2\n",
    "以5列作为一个循环\n",
    "\"\"\"\n",
    "df_food1 = df_food.fillna(-1).values.copy()\n",
    "j = 0\n",
    "for i in range(df_food1.shape[0]):\n",
    "    for j in range(0,df_food1.shape[1],5):\n",
    "        if df_food1[i,j]>0:\n",
    "            pass\n",
    "        elif np.any(df_food1[i,j+1:j+5] >0):\n",
    "            df_food1[i,j] = 1\n",
    "        else:\n",
    "            df_food1[i,j] = 2\n",
    "df_food1_df = pd.DataFrame(df_food1,columns=df_food.columns)\n",
    "print(df_food1_df.head())"
   ],
   "metadata": {
    "collapsed": false,
    "pycharm": {
     "name": "#%%\n"
    }
   }
  },
  {
   "cell_type": "code",
   "execution_count": null,
   "outputs": [],
   "source": [
    "\"\"\"\n",
    "如果没有频率,也没有每次的量,那么就改为2\n",
    "\"\"\"\n",
    "j = 0\n",
    "for i in range(df_food1.shape[0]):\n",
    "    for j in range(0,df_food1.shape[1],5):\n",
    "        if np.all(df_food1[i,j+1:j+5]<0):\n",
    "            df_food1[i,j] =2"
   ],
   "metadata": {
    "collapsed": false,
    "pycharm": {
     "name": "#%%\n"
    }
   }
  },
  {
   "cell_type": "code",
   "execution_count": null,
   "outputs": [],
   "source": [
    "\"\"\"\n",
    "因为频率包括每天,每周,每月,于是我们统一为一个月的频数\n",
    "\"\"\"\n",
    "j = 0\n",
    "for i in range(df_food1.shape[0]):\n",
    "    for j in range(0,df_food1.shape[1],5):\n",
    "        if df_food1[i,j]==2: # 如果不吃\n",
    "            df_food1[i,j+3] = 0\n",
    "            df_food1[i,j+4] = 0\n",
    "        else:\n",
    "            if df_food1[i,j+3]>0:\n",
    "                pass\n",
    "            elif df_food1[i,j+2]>0:\n",
    "                # 月频率为周的4倍\n",
    "                df_food1[i,j+3] = 4*df_food1[i,j+2].copy()\n",
    "            elif df_food1[i,j+1]>0:\n",
    "                # 月频率为日的30倍\n",
    "                df_food1[i,j+3] = 30*df_food1[i,j+1].copy()"
   ],
   "metadata": {
    "collapsed": false,
    "pycharm": {
     "name": "#%%\n"
    }
   }
  },
  {
   "cell_type": "code",
   "execution_count": null,
   "outputs": [],
   "source": [
    "\"\"\"\n",
    "因为使用频率(月)存在缺失值,那么就用平均值去填补\n",
    "\"\"\"\n",
    "for j in range(0,df_food1.shape[1],5):\n",
    "    m = np.mean(df_food1[df_food1[:,j+3]>0,j+3])\n",
    "    df_food1[df_food1[:,j+3]<0,j+3] = round(m,2)\n"
   ],
   "metadata": {
    "collapsed": false,
    "pycharm": {
     "name": "#%%\n"
    }
   }
  },
  {
   "cell_type": "code",
   "execution_count": null,
   "outputs": [],
   "source": [
    "\"\"\"\n",
    "因为每次的量也可能存在缺失值,那么就用平均值去填补\n",
    "\"\"\"\n",
    "for i in range(df_food1.shape[0]):\n",
    "    for j in range(0,df_food1.shape[1],5):\n",
    "        if df_food1[i,j+4]<0:\n",
    "            df_food1[i,j+4] = round(np.mean(df_food1[df_food1[:,j+3]==df_food1[i,j+3],j+4]),2)\n",
    "        if df_food1[i,j+4]<0:\n",
    "            df_food1[i,j+4] = round(np.mean(df_food1[:,j+4]),2)"
   ],
   "metadata": {
    "collapsed": false,
    "pycharm": {
     "name": "#%%\n"
    }
   }
  },
  {
   "cell_type": "code",
   "execution_count": null,
   "outputs": [],
   "source": [
    "\"\"\"\n",
    "去掉日,周这两列\n",
    "\"\"\"\n",
    "df_food2 = df_food1[:,np.array([0,3,4])+0*5].copy()\n",
    "for j in range(5,df_food1.shape[1],5):\n",
    "    df_food2 = np.c_[\"1\",df_food2,df_food1[:,np.array([0,3,4])+j].copy()]\n",
    "\n",
    "df_food2_df = pd.DataFrame(df_food2,columns=[i for i in df_food.columns.values if i[0]!=\"U\"])\n",
    "df_food2_df\n"
   ],
   "metadata": {
    "collapsed": false,
    "pycharm": {
     "name": "#%%\n"
    }
   }
  },
  {
   "cell_type": "markdown",
   "source": [
    "注意:\n",
    "df_food 是最开始的dataframe\n",
    "df_food1 是填补缺失值后的数组\n",
    "df_food1_df 是填补缺失值后的dataframe\n",
    "df_food2 是去掉日,周后的数组\n",
    "df_food2_df 是去掉日,周后的dataframe"
   ],
   "metadata": {
    "collapsed": false,
    "pycharm": {
     "name": "#%% md\n"
    }
   }
  },
  {
   "cell_type": "code",
   "execution_count": null,
   "outputs": [],
   "source": [
    "\"\"\"\n",
    "统计每种食物使用的人数占总人数的比\n",
    "\"\"\"\n",
    "people_eat = np.array([np.sum(df_food2[:,j]==1) for j in range(0,df_food2.shape[1],3)])/df_food2.shape[0]\n",
    "print(df_food2_df.columns[::3].values)\n",
    "print(people_eat)\n",
    "\"\"\"\n",
    "用seaborn将people_eat画出来,其中它的横坐标标签为df_food2_df.columns[::3].values\n",
    "\"\"\"\n",
    "plt.figure(figsize=(10,5))\n",
    "sns.barplot(x=df_food2_df.columns[::3].values,y=people_eat)\n",
    "plt.xticks(rotation=90)\n",
    "plt.xlabel('食物种类')\n",
    "plt.ylabel('食用人数占比')\n",
    "#plt.title('每种食物的食用人数占比')\n",
    "plt.show()"
   ],
   "metadata": {
    "collapsed": false,
    "pycharm": {
     "name": "#%%\n"
    }
   }
  },
  {
   "cell_type": "code",
   "execution_count": null,
   "outputs": [],
   "source": [
    "\"\"\"\n",
    "考虑到每种食物的使用频率也在健康管理范围内,因此我们对此进行统计并进行可视化\n",
    "\"\"\"\n",
    "people_eat_frequency = np.array([np.sum(df_food2[:,j+1]) for j in range(0,df_food2.shape[1],3)])/df_food2.shape[0]\n",
    "# 用seaborn绘制柱状图,其中横坐标是df_food2_df.columns[::3].values,纵坐标是people_eat_frequency\n",
    "plt.figure(figsize=(10,5))\n",
    "sns.barplot(x=df_food2_df.columns[::3].values,y=people_eat_frequency)\n",
    "plt.xticks(rotation=90)\n",
    "plt.xlabel('食物种类')\n",
    "plt.ylabel('每月平均食用频率')\n",
    "#plt.title('每种食物的每月食用频率')\n",
    "plt.show()"
   ],
   "metadata": {
    "collapsed": false,
    "pycharm": {
     "name": "#%%\n"
    }
   }
  },
  {
   "cell_type": "code",
   "execution_count": null,
   "outputs": [],
   "source": [
    "\"\"\"\n",
    "考虑到每种食物的使用量也在健康管理范围内,因此我们对此进行统计并进行可视化\n",
    "\"\"\"\n",
    "\n",
    "plt.figure(figsize = (10,5))\n",
    "# 横坐标为df_food2_df.columns[::3].values\n",
    "bx = plt.boxplot(df_food2[:,[j+2 for j in range(0,df_food2.shape[1],3)]],showfliers = 0,labels=df_food2_df.columns[::3].values,patch_artist=True)\n",
    "plt.xticks(rotation=90)\n",
    "plt.xlabel(\"食物种类\",fontsize = 14)\n",
    "plt.ylabel(\"每次食用量(两)\",fontsize = 14)\n",
    "plt.show()"
   ],
   "metadata": {
    "collapsed": false,
    "pycharm": {
     "name": "#%%\n"
    }
   }
  },
  {
   "cell_type": "code",
   "execution_count": null,
   "outputs": [],
   "source": [
    "\"\"\"\n",
    "因为之前在导入excel中的饮食健康那一栏中,没有导入后面的7列\n",
    "我们这次进行导入并进行统计分析和可视化\n",
    "\"\"\"\n",
    "# 选取df_food的最后七列\n",
    "df_food_7 = df_food_raw.iloc[:,-7:].copy()\n",
    "plt.figure(figsize = (10,5))\n",
    "bx = plt.boxplot(df_food_7.fillna(0).values,showfliers = 0,patch_artist=True)\n",
    "plt.xticks(np.arange(1,8),df_food_7.columns)\n",
    "plt.ylabel(\"平均每月食用量(两)\")\n",
    "plt.show()"
   ],
   "metadata": {
    "collapsed": false,
    "pycharm": {
     "name": "#%%\n"
    }
   }
  },
  {
   "cell_type": "code",
   "execution_count": null,
   "outputs": [],
   "source": [],
   "metadata": {
    "collapsed": false,
    "pycharm": {
     "name": "#%%\n"
    }
   }
  }
 ],
 "metadata": {
  "kernelspec": {
   "display_name": "Python 3",
   "language": "python",
   "name": "python3"
  },
  "language_info": {
   "codemirror_mode": {
    "name": "ipython",
    "version": 2
   },
   "file_extension": ".py",
   "mimetype": "text/x-python",
   "name": "python",
   "nbconvert_exporter": "python",
   "pygments_lexer": "ipython2",
   "version": "2.7.6"
  }
 },
 "nbformat": 4,
 "nbformat_minor": 0
}