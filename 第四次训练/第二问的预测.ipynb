{
 "cells": [
  {
   "cell_type": "code",
   "execution_count": 237,
   "metadata": {
    "collapsed": true,
    "pycharm": {
     "name": "#%%\n"
    }
   },
   "outputs": [],
   "source": [
    "from autogluon.tabular import TabularDataset, TabularPredictor\n",
    "import pandas as pd\n",
    "import numpy as np\n",
    "import matplotlib.pyplot as plt\n",
    "import seaborn as sns"
   ]
  },
  {
   "cell_type": "markdown",
   "source": [
    "第一类行为特征 43个\n",
    "第二类行为特征 220个\n",
    "第三类行为特征 116个\n",
    "1-5-3"
   ],
   "metadata": {
    "collapsed": false,
    "pycharm": {
     "name": "#%% md\n"
    }
   }
  },
  {
   "cell_type": "code",
   "execution_count": 238,
   "outputs": [
    {
     "data": {
      "text/plain": "     母亲年龄  婚姻状况  教育程度  妊娠时间（周数）  分娩方式  CBTS  EPDS  HADS  婴儿行为特征  婴儿性别  \\\n编号                                                                      \n1      34     2     5      37.0     1     3    13     9       2     1   \n2      33     2     5      42.0     1     0     0     3       3     2   \n3      37     2     5      41.0     1     4     8     9       3     1   \n4      31     2     5      37.5     1     6    16    13       3     2   \n5      36     1     5      40.0     1     1     3     3       2     2   \n..    ...   ...   ...       ...   ...   ...   ...   ...     ...   ...   \n386    27     2     5      42.0     1    12    20    14       2     1   \n387    31     2     3      39.0     1     4     7    12       2     1   \n388    31     2     5      41.6     1     0     3     1       3     1   \n389    27     2     3      40.0     1     1    10     5       3     1   \n390    32     2     5      37.0     1    10    10     6       2     1   \n\n     婴儿年龄（月）  整晚睡眠时间（时：分：秒）  睡醒次数  入睡方式  \n编号                                       \n1          1           10.0     3     2  \n2          3           11.0     0     4  \n3          1           12.0     1     2  \n4          3           11.0     2     1  \n5          3           10.5     1     4  \n..       ...            ...   ...   ...  \n386        1            9.0     1     2  \n387        2           11.0     2     4  \n388        1           10.5     2     1  \n389        1            6.0     2     1  \n390        1            9.0     0     4  \n\n[380 rows x 14 columns]",
      "text/html": "<div>\n<style scoped>\n    .dataframe tbody tr th:only-of-type {\n        vertical-align: middle;\n    }\n\n    .dataframe tbody tr th {\n        vertical-align: top;\n    }\n\n    .dataframe thead th {\n        text-align: right;\n    }\n</style>\n<table border=\"1\" class=\"dataframe\">\n  <thead>\n    <tr style=\"text-align: right;\">\n      <th></th>\n      <th>母亲年龄</th>\n      <th>婚姻状况</th>\n      <th>教育程度</th>\n      <th>妊娠时间（周数）</th>\n      <th>分娩方式</th>\n      <th>CBTS</th>\n      <th>EPDS</th>\n      <th>HADS</th>\n      <th>婴儿行为特征</th>\n      <th>婴儿性别</th>\n      <th>婴儿年龄（月）</th>\n      <th>整晚睡眠时间（时：分：秒）</th>\n      <th>睡醒次数</th>\n      <th>入睡方式</th>\n    </tr>\n    <tr>\n      <th>编号</th>\n      <th></th>\n      <th></th>\n      <th></th>\n      <th></th>\n      <th></th>\n      <th></th>\n      <th></th>\n      <th></th>\n      <th></th>\n      <th></th>\n      <th></th>\n      <th></th>\n      <th></th>\n      <th></th>\n    </tr>\n  </thead>\n  <tbody>\n    <tr>\n      <th>1</th>\n      <td>34</td>\n      <td>2</td>\n      <td>5</td>\n      <td>37.0</td>\n      <td>1</td>\n      <td>3</td>\n      <td>13</td>\n      <td>9</td>\n      <td>2</td>\n      <td>1</td>\n      <td>1</td>\n      <td>10.0</td>\n      <td>3</td>\n      <td>2</td>\n    </tr>\n    <tr>\n      <th>2</th>\n      <td>33</td>\n      <td>2</td>\n      <td>5</td>\n      <td>42.0</td>\n      <td>1</td>\n      <td>0</td>\n      <td>0</td>\n      <td>3</td>\n      <td>3</td>\n      <td>2</td>\n      <td>3</td>\n      <td>11.0</td>\n      <td>0</td>\n      <td>4</td>\n    </tr>\n    <tr>\n      <th>3</th>\n      <td>37</td>\n      <td>2</td>\n      <td>5</td>\n      <td>41.0</td>\n      <td>1</td>\n      <td>4</td>\n      <td>8</td>\n      <td>9</td>\n      <td>3</td>\n      <td>1</td>\n      <td>1</td>\n      <td>12.0</td>\n      <td>1</td>\n      <td>2</td>\n    </tr>\n    <tr>\n      <th>4</th>\n      <td>31</td>\n      <td>2</td>\n      <td>5</td>\n      <td>37.5</td>\n      <td>1</td>\n      <td>6</td>\n      <td>16</td>\n      <td>13</td>\n      <td>3</td>\n      <td>2</td>\n      <td>3</td>\n      <td>11.0</td>\n      <td>2</td>\n      <td>1</td>\n    </tr>\n    <tr>\n      <th>5</th>\n      <td>36</td>\n      <td>1</td>\n      <td>5</td>\n      <td>40.0</td>\n      <td>1</td>\n      <td>1</td>\n      <td>3</td>\n      <td>3</td>\n      <td>2</td>\n      <td>2</td>\n      <td>3</td>\n      <td>10.5</td>\n      <td>1</td>\n      <td>4</td>\n    </tr>\n    <tr>\n      <th>...</th>\n      <td>...</td>\n      <td>...</td>\n      <td>...</td>\n      <td>...</td>\n      <td>...</td>\n      <td>...</td>\n      <td>...</td>\n      <td>...</td>\n      <td>...</td>\n      <td>...</td>\n      <td>...</td>\n      <td>...</td>\n      <td>...</td>\n      <td>...</td>\n    </tr>\n    <tr>\n      <th>386</th>\n      <td>27</td>\n      <td>2</td>\n      <td>5</td>\n      <td>42.0</td>\n      <td>1</td>\n      <td>12</td>\n      <td>20</td>\n      <td>14</td>\n      <td>2</td>\n      <td>1</td>\n      <td>1</td>\n      <td>9.0</td>\n      <td>1</td>\n      <td>2</td>\n    </tr>\n    <tr>\n      <th>387</th>\n      <td>31</td>\n      <td>2</td>\n      <td>3</td>\n      <td>39.0</td>\n      <td>1</td>\n      <td>4</td>\n      <td>7</td>\n      <td>12</td>\n      <td>2</td>\n      <td>1</td>\n      <td>2</td>\n      <td>11.0</td>\n      <td>2</td>\n      <td>4</td>\n    </tr>\n    <tr>\n      <th>388</th>\n      <td>31</td>\n      <td>2</td>\n      <td>5</td>\n      <td>41.6</td>\n      <td>1</td>\n      <td>0</td>\n      <td>3</td>\n      <td>1</td>\n      <td>3</td>\n      <td>1</td>\n      <td>1</td>\n      <td>10.5</td>\n      <td>2</td>\n      <td>1</td>\n    </tr>\n    <tr>\n      <th>389</th>\n      <td>27</td>\n      <td>2</td>\n      <td>3</td>\n      <td>40.0</td>\n      <td>1</td>\n      <td>1</td>\n      <td>10</td>\n      <td>5</td>\n      <td>3</td>\n      <td>1</td>\n      <td>1</td>\n      <td>6.0</td>\n      <td>2</td>\n      <td>1</td>\n    </tr>\n    <tr>\n      <th>390</th>\n      <td>32</td>\n      <td>2</td>\n      <td>5</td>\n      <td>37.0</td>\n      <td>1</td>\n      <td>10</td>\n      <td>10</td>\n      <td>6</td>\n      <td>2</td>\n      <td>1</td>\n      <td>1</td>\n      <td>9.0</td>\n      <td>0</td>\n      <td>4</td>\n    </tr>\n  </tbody>\n</table>\n<p>380 rows × 14 columns</p>\n</div>"
     },
     "execution_count": 238,
     "metadata": {},
     "output_type": "execute_result"
    }
   ],
   "source": [
    "\"\"\"\n",
    "读取数据\n",
    "\"\"\"\n",
    "data = pd.read_excel('第一问预处理后的数据2.xlsx',sheet_name='Sheet1',index_col=0)\n",
    "\n",
    "# 删掉睡眠时间,唤醒次数,入睡方式\n",
    "# data.drop(['入睡方式'],axis=1,inplace=True)\n",
    "# 训练集是前0-300行\n",
    "train_data = data.iloc[:320,:]\n",
    "# 测试集是后80行\n",
    "test_data = data.iloc[320:380,:]\n",
    "data"
   ],
   "metadata": {
    "collapsed": false,
    "pycharm": {
     "name": "#%%\n"
    }
   }
  },
  {
   "cell_type": "code",
   "execution_count": 239,
   "outputs": [
    {
     "data": {
      "text/plain": "count    320.000000\nmean       2.175000\nstd        0.618928\nmin        1.000000\n25%        2.000000\n50%        2.000000\n75%        3.000000\nmax        3.000000\nName: 婴儿行为特征, dtype: float64"
     },
     "execution_count": 239,
     "metadata": {},
     "output_type": "execute_result"
    }
   ],
   "source": [
    "label = '婴儿行为特征'\n",
    "train_data[label].describe()"
   ],
   "metadata": {
    "collapsed": false,
    "pycharm": {
     "name": "#%%\n"
    }
   }
  },
  {
   "cell_type": "code",
   "execution_count": 240,
   "outputs": [
    {
     "name": "stderr",
     "output_type": "stream",
     "text": [
      "No path specified. Models will be saved in: \"AutogluonModels\\ag-20230812_083704\\\"\n",
      "Beginning AutoGluon training ...\n",
      "AutoGluon will save models to \"AutogluonModels\\ag-20230812_083704\\\"\n",
      "AutoGluon Version:  0.8.2\n",
      "Python Version:     3.9.13\n",
      "Operating System:   Windows\n",
      "Platform Machine:   AMD64\n",
      "Platform Version:   10.0.19045\n",
      "Disk Space Avail:   15.53 GB / 115.76 GB (13.4%)\n",
      "Train Data Rows:    320\n",
      "Train Data Columns: 13\n",
      "Label Column: 婴儿行为特征\n",
      "Preprocessing data ...\n",
      "AutoGluon infers your prediction problem is: 'multiclass' (because dtype of label-column == int, but few unique label-values observed).\n",
      "\t3 unique label values:  [2, 3, 1]\n",
      "\tIf 'multiclass' is not the correct problem_type, please manually specify the problem_type parameter during predictor init (You may specify problem_type as one of: ['binary', 'multiclass', 'regression'])\n",
      "Train Data Class Count: 3\n",
      "Using Feature Generators to preprocess the data ...\n",
      "Fitting AutoMLPipelineFeatureGenerator...\n",
      "\tAvailable Memory:                    6033.26 MB\n",
      "\tTrain Data (Original)  Memory Usage: 0.03 MB (0.0% of available memory)\n",
      "\tInferring data type of each feature based on column values. Set feature_metadata_in to manually specify special dtypes of the features.\n",
      "\tStage 1 Generators:\n",
      "\t\tFitting AsTypeFeatureGenerator...\n",
      "\t\t\tNote: Converting 3 features to boolean dtype as they only contain 2 unique values.\n",
      "\tStage 2 Generators:\n",
      "\t\tFitting FillNaFeatureGenerator...\n",
      "\tStage 3 Generators:\n",
      "\t\tFitting IdentityFeatureGenerator...\n",
      "\tStage 4 Generators:\n",
      "\t\tFitting DropUniqueFeatureGenerator...\n",
      "\tStage 5 Generators:\n",
      "\t\tFitting DropDuplicatesFeatureGenerator...\n",
      "\tTypes of features in original data (raw dtype, special dtypes):\n",
      "\t\t('float', []) :  2 | ['妊娠时间（周数）', '整晚睡眠时间（时：分：秒）']\n",
      "\t\t('int', [])   : 11 | ['母亲年龄', '婚姻状况', '教育程度', '分娩方式', 'CBTS', ...]\n",
      "\tTypes of features in processed data (raw dtype, special dtypes):\n",
      "\t\t('float', [])     : 2 | ['妊娠时间（周数）', '整晚睡眠时间（时：分：秒）']\n",
      "\t\t('int', [])       : 8 | ['母亲年龄', '教育程度', 'CBTS', 'EPDS', 'HADS', ...]\n",
      "\t\t('int', ['bool']) : 3 | ['婚姻状况', '分娩方式', '婴儿性别']\n",
      "\t0.0s = Fit runtime\n",
      "\t13 features in original data used to generate 13 features in processed data.\n",
      "\tTrain Data (Processed) Memory Usage: 0.03 MB (0.0% of available memory)\n",
      "Data preprocessing and feature engineering runtime = 0.06s ...\n",
      "AutoGluon will gauge predictive performance using evaluation metric: 'accuracy'\n",
      "\tTo change this, specify the eval_metric parameter of Predictor()\n",
      "Automatically generating train/validation split with holdout_frac=0.2, Train Rows: 256, Val Rows: 64\n",
      "User-specified model hyperparameters to be fit:\n",
      "{\n",
      "\t'NN_TORCH': {},\n",
      "\t'GBM': [{'extra_trees': True, 'ag_args': {'name_suffix': 'XT'}}, {}, 'GBMLarge'],\n",
      "\t'CAT': {},\n",
      "\t'XGB': {},\n",
      "\t'FASTAI': {},\n",
      "\t'RF': [{'criterion': 'gini', 'ag_args': {'name_suffix': 'Gini', 'problem_types': ['binary', 'multiclass']}}, {'criterion': 'entropy', 'ag_args': {'name_suffix': 'Entr', 'problem_types': ['binary', 'multiclass']}}, {'criterion': 'squared_error', 'ag_args': {'name_suffix': 'MSE', 'problem_types': ['regression', 'quantile']}}],\n",
      "\t'XT': [{'criterion': 'gini', 'ag_args': {'name_suffix': 'Gini', 'problem_types': ['binary', 'multiclass']}}, {'criterion': 'entropy', 'ag_args': {'name_suffix': 'Entr', 'problem_types': ['binary', 'multiclass']}}, {'criterion': 'squared_error', 'ag_args': {'name_suffix': 'MSE', 'problem_types': ['regression', 'quantile']}}],\n",
      "\t'KNN': [{'weights': 'uniform', 'ag_args': {'name_suffix': 'Unif'}}, {'weights': 'distance', 'ag_args': {'name_suffix': 'Dist'}}],\n",
      "}\n",
      "Fitting 13 L1 models ...\n",
      "Fitting model: KNeighborsUnif ...\n",
      "\t0.4844\t = Validation score   (accuracy)\n",
      "\t0.01s\t = Training   runtime\n",
      "\t0.01s\t = Validation runtime\n",
      "Fitting model: KNeighborsDist ...\n",
      "\t0.5312\t = Validation score   (accuracy)\n",
      "\t0.01s\t = Training   runtime\n",
      "\t0.01s\t = Validation runtime\n",
      "Fitting model: NeuralNetFastAI ...\n",
      "No improvement since epoch 7: early stopping\n",
      "\t0.5625\t = Validation score   (accuracy)\n",
      "\t1.72s\t = Training   runtime\n",
      "\t0.01s\t = Validation runtime\n",
      "Fitting model: LightGBMXT ...\n",
      "\t0.6094\t = Validation score   (accuracy)\n",
      "\t0.54s\t = Training   runtime\n",
      "\t0.0s\t = Validation runtime\n",
      "Fitting model: LightGBM ...\n",
      "\t0.6562\t = Validation score   (accuracy)\n",
      "\t0.63s\t = Training   runtime\n",
      "\t0.0s\t = Validation runtime\n",
      "Fitting model: RandomForestGini ...\n",
      "\t0.6094\t = Validation score   (accuracy)\n",
      "\t0.42s\t = Training   runtime\n",
      "\t0.04s\t = Validation runtime\n",
      "Fitting model: RandomForestEntr ...\n",
      "\t0.6406\t = Validation score   (accuracy)\n",
      "\t0.42s\t = Training   runtime\n",
      "\t0.04s\t = Validation runtime\n",
      "Fitting model: CatBoost ...\n",
      "\t0.5938\t = Validation score   (accuracy)\n",
      "\t0.36s\t = Training   runtime\n",
      "\t0.0s\t = Validation runtime\n",
      "Fitting model: ExtraTreesGini ...\n",
      "\t0.625\t = Validation score   (accuracy)\n",
      "\t0.42s\t = Training   runtime\n",
      "\t0.04s\t = Validation runtime\n",
      "Fitting model: ExtraTreesEntr ...\n",
      "\t0.6094\t = Validation score   (accuracy)\n",
      "\t0.43s\t = Training   runtime\n",
      "\t0.04s\t = Validation runtime\n",
      "Fitting model: XGBoost ...\n",
      "\t0.6406\t = Validation score   (accuracy)\n",
      "\t0.53s\t = Training   runtime\n",
      "\t0.0s\t = Validation runtime\n",
      "Fitting model: NeuralNetTorch ...\n",
      "\t0.625\t = Validation score   (accuracy)\n",
      "\t0.94s\t = Training   runtime\n",
      "\t0.01s\t = Validation runtime\n",
      "Fitting model: LightGBMLarge ...\n",
      "\t0.625\t = Validation score   (accuracy)\n",
      "\t0.99s\t = Training   runtime\n",
      "\t0.0s\t = Validation runtime\n",
      "Fitting model: WeightedEnsemble_L2 ...\n",
      "\t0.6562\t = Validation score   (accuracy)\n",
      "\t0.41s\t = Training   runtime\n",
      "\t0.0s\t = Validation runtime\n",
      "AutoGluon training complete, total runtime = 8.32s ... Best model: \"WeightedEnsemble_L2\"\n",
      "TabularPredictor saved. To load, use: predictor = TabularPredictor.load(\"AutogluonModels\\ag-20230812_083704\\\")\n"
     ]
    }
   ],
   "source": [
    "predictor = TabularPredictor(label=label).fit(train_data)"
   ],
   "metadata": {
    "collapsed": false,
    "pycharm": {
     "name": "#%%\n"
    }
   }
  },
  {
   "cell_type": "code",
   "execution_count": 241,
   "outputs": [
    {
     "data": {
      "text/plain": "编号\n330    2\n331    3\n332    2\n333    2\n334    3\n335    3\n336    2\n337    2\n338    2\n339    1\n340    2\n341    2\n342    2\n343    2\n344    2\n345    2\n346    2\n347    2\n348    2\n349    2\n350    3\n351    2\n352    2\n353    2\n354    3\n356    2\n357    3\n358    2\n359    3\n360    2\n361    2\n362    2\n363    3\n364    3\n365    2\n366    2\n367    2\n368    2\n369    3\n370    2\n371    2\n372    3\n373    2\n374    3\n375    2\n376    2\n377    2\n378    2\n379    3\n380    2\n381    3\n382    3\n383    2\n384    2\n385    2\n386    2\n387    3\n388    3\n389    3\n390    2\nName: 婴儿行为特征, dtype: int64"
     },
     "execution_count": 241,
     "metadata": {},
     "output_type": "execute_result"
    }
   ],
   "source": [
    "y_pred = predictor.predict(test_data.drop(columns=[label]))\n",
    "y_pred"
   ],
   "metadata": {
    "collapsed": false,
    "pycharm": {
     "name": "#%%\n"
    }
   }
  },
  {
   "cell_type": "code",
   "execution_count": 242,
   "outputs": [
    {
     "data": {
      "text/plain": "                  model  score_test  score_val  pred_time_test  pred_time_val  \\\n0              LightGBM    0.700000   0.656250        0.006002       0.001003   \n1   WeightedEnsemble_L2    0.700000   0.656250        0.008003       0.001003   \n2        NeuralNetTorch    0.650000   0.625000        0.008001       0.006001   \n3       NeuralNetFastAI    0.633333   0.562500        0.013003       0.008002   \n4               XGBoost    0.616667   0.640625        0.025006       0.003002   \n5      RandomForestEntr    0.616667   0.640625        0.056012       0.040010   \n6        KNeighborsDist    0.600000   0.531250        0.010003       0.009002   \n7              CatBoost    0.583333   0.593750        0.003003       0.002001   \n8        ExtraTreesGini    0.583333   0.625000        0.058011       0.039000   \n9      RandomForestGini    0.583333   0.609375        0.059014       0.040003   \n10       KNeighborsUnif    0.566667   0.484375        0.010995       0.010331   \n11           LightGBMXT    0.550000   0.609375        0.002000       0.002001   \n12        LightGBMLarge    0.550000   0.625000        0.004001       0.001000   \n13       ExtraTreesEntr    0.550000   0.609375        0.054012       0.040009   \n\n    fit_time  pred_time_test_marginal  pred_time_val_marginal  \\\n0   0.633729                 0.006002                0.001003   \n1   1.047033                 0.002001                0.000000   \n2   0.936796                 0.008001                0.006001   \n3   1.722530                 0.013003                0.008002   \n4   0.534121                 0.025006                0.003002   \n5   0.424000                 0.056012                0.040010   \n6   0.007000                 0.010003                0.009002   \n7   0.362639                 0.003003                0.002001   \n8   0.422756                 0.058011                0.039000   \n9   0.424693                 0.059014                0.040003   \n10  0.007004                 0.010995                0.010331   \n11  0.538307                 0.002000                0.002001   \n12  0.985442                 0.004001                0.001000   \n13  0.427496                 0.054012                0.040009   \n\n    fit_time_marginal  stack_level  can_infer  fit_order  \n0            0.633729            1       True          5  \n1            0.413304            2       True         14  \n2            0.936796            1       True         12  \n3            1.722530            1       True          3  \n4            0.534121            1       True         11  \n5            0.424000            1       True          7  \n6            0.007000            1       True          2  \n7            0.362639            1       True          8  \n8            0.422756            1       True          9  \n9            0.424693            1       True          6  \n10           0.007004            1       True          1  \n11           0.538307            1       True          4  \n12           0.985442            1       True         13  \n13           0.427496            1       True         10  ",
      "text/html": "<div>\n<style scoped>\n    .dataframe tbody tr th:only-of-type {\n        vertical-align: middle;\n    }\n\n    .dataframe tbody tr th {\n        vertical-align: top;\n    }\n\n    .dataframe thead th {\n        text-align: right;\n    }\n</style>\n<table border=\"1\" class=\"dataframe\">\n  <thead>\n    <tr style=\"text-align: right;\">\n      <th></th>\n      <th>model</th>\n      <th>score_test</th>\n      <th>score_val</th>\n      <th>pred_time_test</th>\n      <th>pred_time_val</th>\n      <th>fit_time</th>\n      <th>pred_time_test_marginal</th>\n      <th>pred_time_val_marginal</th>\n      <th>fit_time_marginal</th>\n      <th>stack_level</th>\n      <th>can_infer</th>\n      <th>fit_order</th>\n    </tr>\n  </thead>\n  <tbody>\n    <tr>\n      <th>0</th>\n      <td>LightGBM</td>\n      <td>0.700000</td>\n      <td>0.656250</td>\n      <td>0.006002</td>\n      <td>0.001003</td>\n      <td>0.633729</td>\n      <td>0.006002</td>\n      <td>0.001003</td>\n      <td>0.633729</td>\n      <td>1</td>\n      <td>True</td>\n      <td>5</td>\n    </tr>\n    <tr>\n      <th>1</th>\n      <td>WeightedEnsemble_L2</td>\n      <td>0.700000</td>\n      <td>0.656250</td>\n      <td>0.008003</td>\n      <td>0.001003</td>\n      <td>1.047033</td>\n      <td>0.002001</td>\n      <td>0.000000</td>\n      <td>0.413304</td>\n      <td>2</td>\n      <td>True</td>\n      <td>14</td>\n    </tr>\n    <tr>\n      <th>2</th>\n      <td>NeuralNetTorch</td>\n      <td>0.650000</td>\n      <td>0.625000</td>\n      <td>0.008001</td>\n      <td>0.006001</td>\n      <td>0.936796</td>\n      <td>0.008001</td>\n      <td>0.006001</td>\n      <td>0.936796</td>\n      <td>1</td>\n      <td>True</td>\n      <td>12</td>\n    </tr>\n    <tr>\n      <th>3</th>\n      <td>NeuralNetFastAI</td>\n      <td>0.633333</td>\n      <td>0.562500</td>\n      <td>0.013003</td>\n      <td>0.008002</td>\n      <td>1.722530</td>\n      <td>0.013003</td>\n      <td>0.008002</td>\n      <td>1.722530</td>\n      <td>1</td>\n      <td>True</td>\n      <td>3</td>\n    </tr>\n    <tr>\n      <th>4</th>\n      <td>XGBoost</td>\n      <td>0.616667</td>\n      <td>0.640625</td>\n      <td>0.025006</td>\n      <td>0.003002</td>\n      <td>0.534121</td>\n      <td>0.025006</td>\n      <td>0.003002</td>\n      <td>0.534121</td>\n      <td>1</td>\n      <td>True</td>\n      <td>11</td>\n    </tr>\n    <tr>\n      <th>5</th>\n      <td>RandomForestEntr</td>\n      <td>0.616667</td>\n      <td>0.640625</td>\n      <td>0.056012</td>\n      <td>0.040010</td>\n      <td>0.424000</td>\n      <td>0.056012</td>\n      <td>0.040010</td>\n      <td>0.424000</td>\n      <td>1</td>\n      <td>True</td>\n      <td>7</td>\n    </tr>\n    <tr>\n      <th>6</th>\n      <td>KNeighborsDist</td>\n      <td>0.600000</td>\n      <td>0.531250</td>\n      <td>0.010003</td>\n      <td>0.009002</td>\n      <td>0.007000</td>\n      <td>0.010003</td>\n      <td>0.009002</td>\n      <td>0.007000</td>\n      <td>1</td>\n      <td>True</td>\n      <td>2</td>\n    </tr>\n    <tr>\n      <th>7</th>\n      <td>CatBoost</td>\n      <td>0.583333</td>\n      <td>0.593750</td>\n      <td>0.003003</td>\n      <td>0.002001</td>\n      <td>0.362639</td>\n      <td>0.003003</td>\n      <td>0.002001</td>\n      <td>0.362639</td>\n      <td>1</td>\n      <td>True</td>\n      <td>8</td>\n    </tr>\n    <tr>\n      <th>8</th>\n      <td>ExtraTreesGini</td>\n      <td>0.583333</td>\n      <td>0.625000</td>\n      <td>0.058011</td>\n      <td>0.039000</td>\n      <td>0.422756</td>\n      <td>0.058011</td>\n      <td>0.039000</td>\n      <td>0.422756</td>\n      <td>1</td>\n      <td>True</td>\n      <td>9</td>\n    </tr>\n    <tr>\n      <th>9</th>\n      <td>RandomForestGini</td>\n      <td>0.583333</td>\n      <td>0.609375</td>\n      <td>0.059014</td>\n      <td>0.040003</td>\n      <td>0.424693</td>\n      <td>0.059014</td>\n      <td>0.040003</td>\n      <td>0.424693</td>\n      <td>1</td>\n      <td>True</td>\n      <td>6</td>\n    </tr>\n    <tr>\n      <th>10</th>\n      <td>KNeighborsUnif</td>\n      <td>0.566667</td>\n      <td>0.484375</td>\n      <td>0.010995</td>\n      <td>0.010331</td>\n      <td>0.007004</td>\n      <td>0.010995</td>\n      <td>0.010331</td>\n      <td>0.007004</td>\n      <td>1</td>\n      <td>True</td>\n      <td>1</td>\n    </tr>\n    <tr>\n      <th>11</th>\n      <td>LightGBMXT</td>\n      <td>0.550000</td>\n      <td>0.609375</td>\n      <td>0.002000</td>\n      <td>0.002001</td>\n      <td>0.538307</td>\n      <td>0.002000</td>\n      <td>0.002001</td>\n      <td>0.538307</td>\n      <td>1</td>\n      <td>True</td>\n      <td>4</td>\n    </tr>\n    <tr>\n      <th>12</th>\n      <td>LightGBMLarge</td>\n      <td>0.550000</td>\n      <td>0.625000</td>\n      <td>0.004001</td>\n      <td>0.001000</td>\n      <td>0.985442</td>\n      <td>0.004001</td>\n      <td>0.001000</td>\n      <td>0.985442</td>\n      <td>1</td>\n      <td>True</td>\n      <td>13</td>\n    </tr>\n    <tr>\n      <th>13</th>\n      <td>ExtraTreesEntr</td>\n      <td>0.550000</td>\n      <td>0.609375</td>\n      <td>0.054012</td>\n      <td>0.040009</td>\n      <td>0.427496</td>\n      <td>0.054012</td>\n      <td>0.040009</td>\n      <td>0.427496</td>\n      <td>1</td>\n      <td>True</td>\n      <td>10</td>\n    </tr>\n  </tbody>\n</table>\n</div>"
     },
     "execution_count": 242,
     "metadata": {},
     "output_type": "execute_result"
    }
   ],
   "source": [
    "predictor.leaderboard(test_data, silent=True)"
   ],
   "metadata": {
    "collapsed": false,
    "pycharm": {
     "name": "#%%\n"
    }
   }
  },
  {
   "cell_type": "code",
   "execution_count": 243,
   "outputs": [
    {
     "name": "stderr",
     "output_type": "stream",
     "text": [
      "Computing feature importance via permutation shuffling for 13 features using 60 rows with 5 shuffle sets...\n",
      "\t0.77s\t= Expected runtime (0.15s per shuffle set)\n",
      "\t0.14s\t= Actual runtime (Completed 5 of 5 shuffle sets)\n"
     ]
    },
    {
     "data": {
      "text/plain": "               importance    stddev   p_value  n  p99_high   p99_low\n入睡方式             0.136667  0.032059  0.000338  5  0.202677  0.070657\n整晚睡眠时间（时：分：秒）    0.130000  0.034157  0.000523  5  0.200329  0.059671\n睡醒次数             0.083333  0.016667  0.000182  5  0.117650  0.049016\n妊娠时间（周数）         0.073333  0.043461  0.009777  5  0.162821 -0.016154\n婴儿年龄（月）          0.066667  0.045644  0.015453  5  0.160647 -0.027314\nHADS             0.053333  0.036132  0.014959  5  0.127731 -0.021064\nEPDS             0.046667  0.021731  0.004318  5  0.091410  0.001923\n母亲年龄             0.033333  0.067700  0.166355  5  0.172729 -0.106063\n教育程度             0.033333  0.040825  0.070964  5  0.117392 -0.050726\n婴儿性别             0.030000  0.007454  0.000422  5  0.045347  0.014653\nCBTS             0.026667  0.014907  0.008065  5  0.057361 -0.004027\n婚姻状况             0.000000  0.000000  0.500000  5  0.000000  0.000000\n分娩方式             0.000000  0.000000  0.500000  5  0.000000  0.000000",
      "text/html": "<div>\n<style scoped>\n    .dataframe tbody tr th:only-of-type {\n        vertical-align: middle;\n    }\n\n    .dataframe tbody tr th {\n        vertical-align: top;\n    }\n\n    .dataframe thead th {\n        text-align: right;\n    }\n</style>\n<table border=\"1\" class=\"dataframe\">\n  <thead>\n    <tr style=\"text-align: right;\">\n      <th></th>\n      <th>importance</th>\n      <th>stddev</th>\n      <th>p_value</th>\n      <th>n</th>\n      <th>p99_high</th>\n      <th>p99_low</th>\n    </tr>\n  </thead>\n  <tbody>\n    <tr>\n      <th>入睡方式</th>\n      <td>0.136667</td>\n      <td>0.032059</td>\n      <td>0.000338</td>\n      <td>5</td>\n      <td>0.202677</td>\n      <td>0.070657</td>\n    </tr>\n    <tr>\n      <th>整晚睡眠时间（时：分：秒）</th>\n      <td>0.130000</td>\n      <td>0.034157</td>\n      <td>0.000523</td>\n      <td>5</td>\n      <td>0.200329</td>\n      <td>0.059671</td>\n    </tr>\n    <tr>\n      <th>睡醒次数</th>\n      <td>0.083333</td>\n      <td>0.016667</td>\n      <td>0.000182</td>\n      <td>5</td>\n      <td>0.117650</td>\n      <td>0.049016</td>\n    </tr>\n    <tr>\n      <th>妊娠时间（周数）</th>\n      <td>0.073333</td>\n      <td>0.043461</td>\n      <td>0.009777</td>\n      <td>5</td>\n      <td>0.162821</td>\n      <td>-0.016154</td>\n    </tr>\n    <tr>\n      <th>婴儿年龄（月）</th>\n      <td>0.066667</td>\n      <td>0.045644</td>\n      <td>0.015453</td>\n      <td>5</td>\n      <td>0.160647</td>\n      <td>-0.027314</td>\n    </tr>\n    <tr>\n      <th>HADS</th>\n      <td>0.053333</td>\n      <td>0.036132</td>\n      <td>0.014959</td>\n      <td>5</td>\n      <td>0.127731</td>\n      <td>-0.021064</td>\n    </tr>\n    <tr>\n      <th>EPDS</th>\n      <td>0.046667</td>\n      <td>0.021731</td>\n      <td>0.004318</td>\n      <td>5</td>\n      <td>0.091410</td>\n      <td>0.001923</td>\n    </tr>\n    <tr>\n      <th>母亲年龄</th>\n      <td>0.033333</td>\n      <td>0.067700</td>\n      <td>0.166355</td>\n      <td>5</td>\n      <td>0.172729</td>\n      <td>-0.106063</td>\n    </tr>\n    <tr>\n      <th>教育程度</th>\n      <td>0.033333</td>\n      <td>0.040825</td>\n      <td>0.070964</td>\n      <td>5</td>\n      <td>0.117392</td>\n      <td>-0.050726</td>\n    </tr>\n    <tr>\n      <th>婴儿性别</th>\n      <td>0.030000</td>\n      <td>0.007454</td>\n      <td>0.000422</td>\n      <td>5</td>\n      <td>0.045347</td>\n      <td>0.014653</td>\n    </tr>\n    <tr>\n      <th>CBTS</th>\n      <td>0.026667</td>\n      <td>0.014907</td>\n      <td>0.008065</td>\n      <td>5</td>\n      <td>0.057361</td>\n      <td>-0.004027</td>\n    </tr>\n    <tr>\n      <th>婚姻状况</th>\n      <td>0.000000</td>\n      <td>0.000000</td>\n      <td>0.500000</td>\n      <td>5</td>\n      <td>0.000000</td>\n      <td>0.000000</td>\n    </tr>\n    <tr>\n      <th>分娩方式</th>\n      <td>0.000000</td>\n      <td>0.000000</td>\n      <td>0.500000</td>\n      <td>5</td>\n      <td>0.000000</td>\n      <td>0.000000</td>\n    </tr>\n  </tbody>\n</table>\n</div>"
     },
     "execution_count": 243,
     "metadata": {},
     "output_type": "execute_result"
    }
   ],
   "source": [
    "\"\"\"\n",
    "绘制每个模型的准确率\n",
    "\"\"\"\n",
    "predictor.feature_importance(test_data)\n"
   ],
   "metadata": {
    "collapsed": false,
    "pycharm": {
     "name": "#%%\n"
    }
   }
  },
  {
   "cell_type": "code",
   "execution_count": 244,
   "outputs": [
    {
     "data": {
      "text/plain": "'\\n预测最后20行的值\\n'"
     },
     "execution_count": 244,
     "metadata": {},
     "output_type": "execute_result"
    }
   ],
   "source": [
    "\"\"\"\n",
    "预测最后20行的值\n",
    "\"\"\"\n",
    "# ttest_data = data.iloc[380:,:]\n",
    "# y_pred_new1 = predictor.predict(ttest_data.drop(columns=[label]))\n",
    "# y_pred_new1"
   ],
   "metadata": {
    "collapsed": false,
    "pycharm": {
     "name": "#%%\n"
    }
   }
  },
  {
   "cell_type": "code",
   "execution_count": 251,
   "outputs": [
    {
     "data": {
      "text/plain": "编号\n238    1\nName: 婴儿行为特征, dtype: int64"
     },
     "execution_count": 251,
     "metadata": {},
     "output_type": "execute_result"
    }
   ],
   "source": [
    "\"\"\"\n",
    "单独选取第238行的数据\n",
    "\"\"\"\n",
    "data238 = data.iloc[231:232,:]\n",
    "data238.loc[238,'CBTS'] = 15\n",
    "data238.loc[238,'EPDS'] = 22\n",
    "data238.loc[238,'HADS'] = 18\n",
    "# data238.loc[238,'妊娠时间（周数）'] = 38\n",
    "# data238.loc[238,'母亲年龄'] = 32\n",
    "# data238.loc[238,'整晚睡眠时间（时：分：秒）'] = 10\n",
    "# data238.loc[238,'睡醒次数'] = 1\n",
    "# data238.loc[238,'入睡方式'] = 3\n",
    "# 对data238进行预测\n",
    "y_pred_new2 = predictor.predict(data238.drop(columns=[label]))\n",
    "y_pred_new2"
   ],
   "metadata": {
    "collapsed": false,
    "pycharm": {
     "name": "#%%\n"
    }
   }
  },
  {
   "cell_type": "markdown",
   "source": [
    "\n",
    "CBTS 6.58   6.23    5.25\n",
    "EPDS 11     9.29    8.0\n",
    "HADS 8.7    8.04    7.18"
   ],
   "metadata": {
    "collapsed": false,
    "pycharm": {
     "name": "#%% md\n"
    }
   }
  },
  {
   "cell_type": "code",
   "execution_count": 246,
   "outputs": [
    {
     "data": {
      "text/plain": "     CBTS  EPDS  HADS  婴儿行为特征\n编号                           \n1       3    13     9       2\n2       0     0     3       3\n3       4     8     9       3\n4       6    16    13       3\n5       1     3     3       2\n..    ...   ...   ...     ...\n386    12    20    14       2\n387     4     7    12       2\n388     0     3     1       3\n389     1    10     5       3\n390    10    10     6       2\n\n[380 rows x 4 columns]",
      "text/html": "<div>\n<style scoped>\n    .dataframe tbody tr th:only-of-type {\n        vertical-align: middle;\n    }\n\n    .dataframe tbody tr th {\n        vertical-align: top;\n    }\n\n    .dataframe thead th {\n        text-align: right;\n    }\n</style>\n<table border=\"1\" class=\"dataframe\">\n  <thead>\n    <tr style=\"text-align: right;\">\n      <th></th>\n      <th>CBTS</th>\n      <th>EPDS</th>\n      <th>HADS</th>\n      <th>婴儿行为特征</th>\n    </tr>\n    <tr>\n      <th>编号</th>\n      <th></th>\n      <th></th>\n      <th></th>\n      <th></th>\n    </tr>\n  </thead>\n  <tbody>\n    <tr>\n      <th>1</th>\n      <td>3</td>\n      <td>13</td>\n      <td>9</td>\n      <td>2</td>\n    </tr>\n    <tr>\n      <th>2</th>\n      <td>0</td>\n      <td>0</td>\n      <td>3</td>\n      <td>3</td>\n    </tr>\n    <tr>\n      <th>3</th>\n      <td>4</td>\n      <td>8</td>\n      <td>9</td>\n      <td>3</td>\n    </tr>\n    <tr>\n      <th>4</th>\n      <td>6</td>\n      <td>16</td>\n      <td>13</td>\n      <td>3</td>\n    </tr>\n    <tr>\n      <th>5</th>\n      <td>1</td>\n      <td>3</td>\n      <td>3</td>\n      <td>2</td>\n    </tr>\n    <tr>\n      <th>...</th>\n      <td>...</td>\n      <td>...</td>\n      <td>...</td>\n      <td>...</td>\n    </tr>\n    <tr>\n      <th>386</th>\n      <td>12</td>\n      <td>20</td>\n      <td>14</td>\n      <td>2</td>\n    </tr>\n    <tr>\n      <th>387</th>\n      <td>4</td>\n      <td>7</td>\n      <td>12</td>\n      <td>2</td>\n    </tr>\n    <tr>\n      <th>388</th>\n      <td>0</td>\n      <td>3</td>\n      <td>1</td>\n      <td>3</td>\n    </tr>\n    <tr>\n      <th>389</th>\n      <td>1</td>\n      <td>10</td>\n      <td>5</td>\n      <td>3</td>\n    </tr>\n    <tr>\n      <th>390</th>\n      <td>10</td>\n      <td>10</td>\n      <td>6</td>\n      <td>2</td>\n    </tr>\n  </tbody>\n</table>\n<p>380 rows × 4 columns</p>\n</div>"
     },
     "execution_count": 246,
     "metadata": {},
     "output_type": "execute_result"
    }
   ],
   "source": [
    "data_new  = data[['CBTS','EPDS','HADS','婴儿行为特征']]\n",
    "data_new"
   ],
   "metadata": {
    "collapsed": false,
    "pycharm": {
     "name": "#%%\n"
    }
   }
  },
  {
   "cell_type": "code",
   "execution_count": 247,
   "outputs": [
    {
     "data": {
      "text/plain": "count    320.000000\nmean       2.175000\nstd        0.618928\nmin        1.000000\n25%        2.000000\n50%        2.000000\n75%        3.000000\nmax        3.000000\nName: 婴儿行为特征, dtype: float64"
     },
     "execution_count": 247,
     "metadata": {},
     "output_type": "execute_result"
    }
   ],
   "source": [
    "label_new = '婴儿行为特征'\n",
    "train_data_new = data_new.iloc[:320,:]\n",
    "test_data_new = data_new.iloc[320:380,:]\n",
    "train_data_new['婴儿行为特征'].describe()"
   ],
   "metadata": {
    "collapsed": false,
    "pycharm": {
     "name": "#%%\n"
    }
   }
  },
  {
   "cell_type": "code",
   "execution_count": 248,
   "outputs": [
    {
     "name": "stderr",
     "output_type": "stream",
     "text": [
      "No path specified. Models will be saved in: \"AutogluonModels\\ag-20230812_083713\\\"\n",
      "Beginning AutoGluon training ...\n",
      "AutoGluon will save models to \"AutogluonModels\\ag-20230812_083713\\\"\n",
      "AutoGluon Version:  0.8.2\n",
      "Python Version:     3.9.13\n",
      "Operating System:   Windows\n",
      "Platform Machine:   AMD64\n",
      "Platform Version:   10.0.19045\n",
      "Disk Space Avail:   15.51 GB / 115.76 GB (13.4%)\n",
      "Train Data Rows:    320\n",
      "Train Data Columns: 3\n",
      "Label Column: 婴儿行为特征\n",
      "Preprocessing data ...\n",
      "AutoGluon infers your prediction problem is: 'multiclass' (because dtype of label-column == int, but few unique label-values observed).\n",
      "\t3 unique label values:  [2, 3, 1]\n",
      "\tIf 'multiclass' is not the correct problem_type, please manually specify the problem_type parameter during predictor init (You may specify problem_type as one of: ['binary', 'multiclass', 'regression'])\n",
      "Train Data Class Count: 3\n",
      "Using Feature Generators to preprocess the data ...\n",
      "Fitting AutoMLPipelineFeatureGenerator...\n",
      "\tAvailable Memory:                    6011.55 MB\n",
      "\tTrain Data (Original)  Memory Usage: 0.01 MB (0.0% of available memory)\n",
      "\tInferring data type of each feature based on column values. Set feature_metadata_in to manually specify special dtypes of the features.\n",
      "\tStage 1 Generators:\n",
      "\t\tFitting AsTypeFeatureGenerator...\n",
      "\tStage 2 Generators:\n",
      "\t\tFitting FillNaFeatureGenerator...\n",
      "\tStage 3 Generators:\n",
      "\t\tFitting IdentityFeatureGenerator...\n",
      "\tStage 4 Generators:\n",
      "\t\tFitting DropUniqueFeatureGenerator...\n",
      "\tStage 5 Generators:\n",
      "\t\tFitting DropDuplicatesFeatureGenerator...\n",
      "\tTypes of features in original data (raw dtype, special dtypes):\n",
      "\t\t('int', []) : 3 | ['CBTS', 'EPDS', 'HADS']\n",
      "\tTypes of features in processed data (raw dtype, special dtypes):\n",
      "\t\t('int', []) : 3 | ['CBTS', 'EPDS', 'HADS']\n",
      "\t0.0s = Fit runtime\n",
      "\t3 features in original data used to generate 3 features in processed data.\n",
      "\tTrain Data (Processed) Memory Usage: 0.01 MB (0.0% of available memory)\n",
      "Data preprocessing and feature engineering runtime = 0.05s ...\n",
      "AutoGluon will gauge predictive performance using evaluation metric: 'accuracy'\n",
      "\tTo change this, specify the eval_metric parameter of Predictor()\n",
      "Automatically generating train/validation split with holdout_frac=0.2, Train Rows: 256, Val Rows: 64\n",
      "User-specified model hyperparameters to be fit:\n",
      "{\n",
      "\t'NN_TORCH': {},\n",
      "\t'GBM': [{'extra_trees': True, 'ag_args': {'name_suffix': 'XT'}}, {}, 'GBMLarge'],\n",
      "\t'CAT': {},\n",
      "\t'XGB': {},\n",
      "\t'FASTAI': {},\n",
      "\t'RF': [{'criterion': 'gini', 'ag_args': {'name_suffix': 'Gini', 'problem_types': ['binary', 'multiclass']}}, {'criterion': 'entropy', 'ag_args': {'name_suffix': 'Entr', 'problem_types': ['binary', 'multiclass']}}, {'criterion': 'squared_error', 'ag_args': {'name_suffix': 'MSE', 'problem_types': ['regression', 'quantile']}}],\n",
      "\t'XT': [{'criterion': 'gini', 'ag_args': {'name_suffix': 'Gini', 'problem_types': ['binary', 'multiclass']}}, {'criterion': 'entropy', 'ag_args': {'name_suffix': 'Entr', 'problem_types': ['binary', 'multiclass']}}, {'criterion': 'squared_error', 'ag_args': {'name_suffix': 'MSE', 'problem_types': ['regression', 'quantile']}}],\n",
      "\t'KNN': [{'weights': 'uniform', 'ag_args': {'name_suffix': 'Unif'}}, {'weights': 'distance', 'ag_args': {'name_suffix': 'Dist'}}],\n",
      "}\n",
      "Fitting 13 L1 models ...\n",
      "Fitting model: KNeighborsUnif ...\n",
      "\t0.4375\t = Validation score   (accuracy)\n",
      "\t0.0s\t = Training   runtime\n",
      "\t0.01s\t = Validation runtime\n",
      "Fitting model: KNeighborsDist ...\n",
      "\t0.4531\t = Validation score   (accuracy)\n",
      "\t0.01s\t = Training   runtime\n",
      "\t0.01s\t = Validation runtime\n",
      "Fitting model: NeuralNetFastAI ...\n",
      "No improvement since epoch 7: early stopping\n",
      "\t0.5781\t = Validation score   (accuracy)\n",
      "\t1.56s\t = Training   runtime\n",
      "\t0.01s\t = Validation runtime\n",
      "Fitting model: LightGBMXT ...\n",
      "\t0.5781\t = Validation score   (accuracy)\n",
      "\t0.49s\t = Training   runtime\n",
      "\t0.0s\t = Validation runtime\n",
      "Fitting model: LightGBM ...\n",
      "\t0.5781\t = Validation score   (accuracy)\n",
      "\t0.5s\t = Training   runtime\n",
      "\t0.0s\t = Validation runtime\n",
      "Fitting model: RandomForestGini ...\n",
      "\t0.5\t = Validation score   (accuracy)\n",
      "\t0.51s\t = Training   runtime\n",
      "\t0.07s\t = Validation runtime\n",
      "Fitting model: RandomForestEntr ...\n",
      "\t0.4844\t = Validation score   (accuracy)\n",
      "\t0.46s\t = Training   runtime\n",
      "\t0.04s\t = Validation runtime\n",
      "Fitting model: CatBoost ...\n",
      "\t0.5938\t = Validation score   (accuracy)\n",
      "\t0.35s\t = Training   runtime\n",
      "\t0.0s\t = Validation runtime\n",
      "Fitting model: ExtraTreesGini ...\n",
      "\t0.5625\t = Validation score   (accuracy)\n",
      "\t0.42s\t = Training   runtime\n",
      "\t0.04s\t = Validation runtime\n",
      "Fitting model: ExtraTreesEntr ...\n",
      "\t0.5469\t = Validation score   (accuracy)\n",
      "\t0.43s\t = Training   runtime\n",
      "\t0.04s\t = Validation runtime\n",
      "Fitting model: XGBoost ...\n",
      "\t0.5625\t = Validation score   (accuracy)\n",
      "\t0.4s\t = Training   runtime\n",
      "\t0.0s\t = Validation runtime\n",
      "Fitting model: NeuralNetTorch ...\n",
      "\t0.5781\t = Validation score   (accuracy)\n",
      "\t0.53s\t = Training   runtime\n",
      "\t0.01s\t = Validation runtime\n",
      "Fitting model: LightGBMLarge ...\n",
      "\t0.5781\t = Validation score   (accuracy)\n",
      "\t0.91s\t = Training   runtime\n",
      "\t0.0s\t = Validation runtime\n",
      "Fitting model: WeightedEnsemble_L2 ...\n",
      "\t0.5938\t = Validation score   (accuracy)\n",
      "\t0.41s\t = Training   runtime\n",
      "\t0.0s\t = Validation runtime\n",
      "AutoGluon training complete, total runtime = 7.54s ... Best model: \"WeightedEnsemble_L2\"\n",
      "TabularPredictor saved. To load, use: predictor = TabularPredictor.load(\"AutogluonModels\\ag-20230812_083713\\\")\n"
     ]
    }
   ],
   "source": [
    "predictor_new = TabularPredictor(label=label_new).fit(train_data_new)"
   ],
   "metadata": {
    "collapsed": false,
    "pycharm": {
     "name": "#%%\n"
    }
   }
  },
  {
   "cell_type": "code",
   "execution_count": 249,
   "outputs": [
    {
     "data": {
      "text/plain": "count    60.000000\nmean      1.983333\nstd       0.129099\nmin       1.000000\n25%       2.000000\n50%       2.000000\n75%       2.000000\nmax       2.000000\nName: 婴儿行为特征, dtype: float64"
     },
     "execution_count": 249,
     "metadata": {},
     "output_type": "execute_result"
    }
   ],
   "source": [
    "y_pred_new = predictor_new.predict(test_data_new.drop(columns=[label_new]))\n",
    "y_pred_new.describe()"
   ],
   "metadata": {
    "collapsed": false,
    "pycharm": {
     "name": "#%%\n"
    }
   }
  },
  {
   "cell_type": "code",
   "execution_count": 250,
   "outputs": [
    {
     "data": {
      "text/plain": "                  model  score_test  score_val  pred_time_test  pred_time_val  \\\n0            LightGBMXT    0.533333   0.578125        0.000998       0.001001   \n1         LightGBMLarge    0.533333   0.578125        0.001000       0.000993   \n2              LightGBM    0.533333   0.578125        0.002002       0.000999   \n3        NeuralNetTorch    0.533333   0.578125        0.007001       0.005001   \n4              CatBoost    0.516667   0.593750        0.001999       0.000999   \n5   WeightedEnsemble_L2    0.516667   0.593750        0.004001       0.000999   \n6      RandomForestGini    0.516667   0.500000        0.061010       0.074016   \n7               XGBoost    0.500000   0.562500        0.020004       0.002008   \n8        ExtraTreesGini    0.500000   0.562500        0.052012       0.040010   \n9      RandomForestEntr    0.500000   0.484375        0.055013       0.042009   \n10      NeuralNetFastAI    0.483333   0.578125        0.012005       0.008001   \n11       ExtraTreesEntr    0.483333   0.546875        0.055014       0.039009   \n12       KNeighborsUnif    0.466667   0.437500        0.010000       0.010005   \n13       KNeighborsDist    0.450000   0.453125        0.010004       0.009002   \n\n    fit_time  pred_time_test_marginal  pred_time_val_marginal  \\\n0   0.488296                 0.000998                0.001001   \n1   0.913794                 0.001000                0.000993   \n2   0.501113                 0.002002                0.000999   \n3   0.529345                 0.007001                0.005001   \n4   0.354230                 0.001999                0.000999   \n5   0.768321                 0.002002                0.000000   \n6   0.512376                 0.061010                0.074016   \n7   0.398097                 0.020004                0.002008   \n8   0.423184                 0.052012                0.040010   \n9   0.457751                 0.055013                0.042009   \n10  1.555585                 0.012005                0.008001   \n11  0.433677                 0.055014                0.039009   \n12  0.005000                 0.010000                0.010005   \n13  0.006002                 0.010004                0.009002   \n\n    fit_time_marginal  stack_level  can_infer  fit_order  \n0            0.488296            1       True          4  \n1            0.913794            1       True         13  \n2            0.501113            1       True          5  \n3            0.529345            1       True         12  \n4            0.354230            1       True          8  \n5            0.414090            2       True         14  \n6            0.512376            1       True          6  \n7            0.398097            1       True         11  \n8            0.423184            1       True          9  \n9            0.457751            1       True          7  \n10           1.555585            1       True          3  \n11           0.433677            1       True         10  \n12           0.005000            1       True          1  \n13           0.006002            1       True          2  ",
      "text/html": "<div>\n<style scoped>\n    .dataframe tbody tr th:only-of-type {\n        vertical-align: middle;\n    }\n\n    .dataframe tbody tr th {\n        vertical-align: top;\n    }\n\n    .dataframe thead th {\n        text-align: right;\n    }\n</style>\n<table border=\"1\" class=\"dataframe\">\n  <thead>\n    <tr style=\"text-align: right;\">\n      <th></th>\n      <th>model</th>\n      <th>score_test</th>\n      <th>score_val</th>\n      <th>pred_time_test</th>\n      <th>pred_time_val</th>\n      <th>fit_time</th>\n      <th>pred_time_test_marginal</th>\n      <th>pred_time_val_marginal</th>\n      <th>fit_time_marginal</th>\n      <th>stack_level</th>\n      <th>can_infer</th>\n      <th>fit_order</th>\n    </tr>\n  </thead>\n  <tbody>\n    <tr>\n      <th>0</th>\n      <td>LightGBMXT</td>\n      <td>0.533333</td>\n      <td>0.578125</td>\n      <td>0.000998</td>\n      <td>0.001001</td>\n      <td>0.488296</td>\n      <td>0.000998</td>\n      <td>0.001001</td>\n      <td>0.488296</td>\n      <td>1</td>\n      <td>True</td>\n      <td>4</td>\n    </tr>\n    <tr>\n      <th>1</th>\n      <td>LightGBMLarge</td>\n      <td>0.533333</td>\n      <td>0.578125</td>\n      <td>0.001000</td>\n      <td>0.000993</td>\n      <td>0.913794</td>\n      <td>0.001000</td>\n      <td>0.000993</td>\n      <td>0.913794</td>\n      <td>1</td>\n      <td>True</td>\n      <td>13</td>\n    </tr>\n    <tr>\n      <th>2</th>\n      <td>LightGBM</td>\n      <td>0.533333</td>\n      <td>0.578125</td>\n      <td>0.002002</td>\n      <td>0.000999</td>\n      <td>0.501113</td>\n      <td>0.002002</td>\n      <td>0.000999</td>\n      <td>0.501113</td>\n      <td>1</td>\n      <td>True</td>\n      <td>5</td>\n    </tr>\n    <tr>\n      <th>3</th>\n      <td>NeuralNetTorch</td>\n      <td>0.533333</td>\n      <td>0.578125</td>\n      <td>0.007001</td>\n      <td>0.005001</td>\n      <td>0.529345</td>\n      <td>0.007001</td>\n      <td>0.005001</td>\n      <td>0.529345</td>\n      <td>1</td>\n      <td>True</td>\n      <td>12</td>\n    </tr>\n    <tr>\n      <th>4</th>\n      <td>CatBoost</td>\n      <td>0.516667</td>\n      <td>0.593750</td>\n      <td>0.001999</td>\n      <td>0.000999</td>\n      <td>0.354230</td>\n      <td>0.001999</td>\n      <td>0.000999</td>\n      <td>0.354230</td>\n      <td>1</td>\n      <td>True</td>\n      <td>8</td>\n    </tr>\n    <tr>\n      <th>5</th>\n      <td>WeightedEnsemble_L2</td>\n      <td>0.516667</td>\n      <td>0.593750</td>\n      <td>0.004001</td>\n      <td>0.000999</td>\n      <td>0.768321</td>\n      <td>0.002002</td>\n      <td>0.000000</td>\n      <td>0.414090</td>\n      <td>2</td>\n      <td>True</td>\n      <td>14</td>\n    </tr>\n    <tr>\n      <th>6</th>\n      <td>RandomForestGini</td>\n      <td>0.516667</td>\n      <td>0.500000</td>\n      <td>0.061010</td>\n      <td>0.074016</td>\n      <td>0.512376</td>\n      <td>0.061010</td>\n      <td>0.074016</td>\n      <td>0.512376</td>\n      <td>1</td>\n      <td>True</td>\n      <td>6</td>\n    </tr>\n    <tr>\n      <th>7</th>\n      <td>XGBoost</td>\n      <td>0.500000</td>\n      <td>0.562500</td>\n      <td>0.020004</td>\n      <td>0.002008</td>\n      <td>0.398097</td>\n      <td>0.020004</td>\n      <td>0.002008</td>\n      <td>0.398097</td>\n      <td>1</td>\n      <td>True</td>\n      <td>11</td>\n    </tr>\n    <tr>\n      <th>8</th>\n      <td>ExtraTreesGini</td>\n      <td>0.500000</td>\n      <td>0.562500</td>\n      <td>0.052012</td>\n      <td>0.040010</td>\n      <td>0.423184</td>\n      <td>0.052012</td>\n      <td>0.040010</td>\n      <td>0.423184</td>\n      <td>1</td>\n      <td>True</td>\n      <td>9</td>\n    </tr>\n    <tr>\n      <th>9</th>\n      <td>RandomForestEntr</td>\n      <td>0.500000</td>\n      <td>0.484375</td>\n      <td>0.055013</td>\n      <td>0.042009</td>\n      <td>0.457751</td>\n      <td>0.055013</td>\n      <td>0.042009</td>\n      <td>0.457751</td>\n      <td>1</td>\n      <td>True</td>\n      <td>7</td>\n    </tr>\n    <tr>\n      <th>10</th>\n      <td>NeuralNetFastAI</td>\n      <td>0.483333</td>\n      <td>0.578125</td>\n      <td>0.012005</td>\n      <td>0.008001</td>\n      <td>1.555585</td>\n      <td>0.012005</td>\n      <td>0.008001</td>\n      <td>1.555585</td>\n      <td>1</td>\n      <td>True</td>\n      <td>3</td>\n    </tr>\n    <tr>\n      <th>11</th>\n      <td>ExtraTreesEntr</td>\n      <td>0.483333</td>\n      <td>0.546875</td>\n      <td>0.055014</td>\n      <td>0.039009</td>\n      <td>0.433677</td>\n      <td>0.055014</td>\n      <td>0.039009</td>\n      <td>0.433677</td>\n      <td>1</td>\n      <td>True</td>\n      <td>10</td>\n    </tr>\n    <tr>\n      <th>12</th>\n      <td>KNeighborsUnif</td>\n      <td>0.466667</td>\n      <td>0.437500</td>\n      <td>0.010000</td>\n      <td>0.010005</td>\n      <td>0.005000</td>\n      <td>0.010000</td>\n      <td>0.010005</td>\n      <td>0.005000</td>\n      <td>1</td>\n      <td>True</td>\n      <td>1</td>\n    </tr>\n    <tr>\n      <th>13</th>\n      <td>KNeighborsDist</td>\n      <td>0.450000</td>\n      <td>0.453125</td>\n      <td>0.010004</td>\n      <td>0.009002</td>\n      <td>0.006002</td>\n      <td>0.010004</td>\n      <td>0.009002</td>\n      <td>0.006002</td>\n      <td>1</td>\n      <td>True</td>\n      <td>2</td>\n    </tr>\n  </tbody>\n</table>\n</div>"
     },
     "execution_count": 250,
     "metadata": {},
     "output_type": "execute_result"
    }
   ],
   "source": [
    "predictor_new.leaderboard(test_data_new, silent=True)"
   ],
   "metadata": {
    "collapsed": false,
    "pycharm": {
     "name": "#%%\n"
    }
   }
  },
  {
   "cell_type": "code",
   "execution_count": 250,
   "outputs": [],
   "source": [],
   "metadata": {
    "collapsed": false,
    "pycharm": {
     "name": "#%%\n"
    }
   }
  }
 ],
 "metadata": {
  "kernelspec": {
   "display_name": "Python 3",
   "language": "python",
   "name": "python3"
  },
  "language_info": {
   "codemirror_mode": {
    "name": "ipython",
    "version": 2
   },
   "file_extension": ".py",
   "mimetype": "text/x-python",
   "name": "python",
   "nbconvert_exporter": "python",
   "pygments_lexer": "ipython2",
   "version": "2.7.6"
  }
 },
 "nbformat": 4,
 "nbformat_minor": 0
}