{
 "cells": [
  {
   "cell_type": "code",
   "execution_count": 55,
   "metadata": {
    "collapsed": true,
    "pycharm": {
     "name": "#%%\n"
    }
   },
   "outputs": [],
   "source": [
    "from autogluon.tabular import TabularDataset, TabularPredictor\n",
    "import pandas as pd\n",
    "import numpy as np\n",
    "import matplotlib.pyplot as plt\n",
    "import seaborn as sns\n",
    "# 设置中文\n",
    "plt.rcParams['font.sans-serif'] = ['SimHei']\n",
    "plt.rcParams['axes.unicode_minus'] = False"
   ]
  },
  {
   "cell_type": "code",
   "execution_count": 56,
   "outputs": [
    {
     "data": {
      "text/plain": "     睡眠质量  母亲年龄  婚姻状况  教育程度  妊娠时间（周数）  分娩方式  CBTS  EPDS  HADS\n0     2.0    34     2     5      37.0     1     3    13     9\n1     4.0    33     2     5      42.0     1     0     0     3\n2     4.0    37     2     5      41.0     1     4     8     9\n3     3.0    31     2     5      37.5     1     6    16    13\n4     4.0    36     1     5      40.0     1     1     3     3\n..    ...   ...   ...   ...       ...   ...   ...   ...   ...\n395   NaN    31     2     3      39.5     1     1     4     4\n396   NaN    26     2     2      37.0     1     4     9    14\n397   NaN    26     2     5      39.0     1     0     3     3\n398   NaN    27     2     5      41.2     1     0     0     4\n399   NaN    31     2     5      38.0     1     3     7     7\n\n[400 rows x 9 columns]",
      "text/html": "<div>\n<style scoped>\n    .dataframe tbody tr th:only-of-type {\n        vertical-align: middle;\n    }\n\n    .dataframe tbody tr th {\n        vertical-align: top;\n    }\n\n    .dataframe thead th {\n        text-align: right;\n    }\n</style>\n<table border=\"1\" class=\"dataframe\">\n  <thead>\n    <tr style=\"text-align: right;\">\n      <th></th>\n      <th>睡眠质量</th>\n      <th>母亲年龄</th>\n      <th>婚姻状况</th>\n      <th>教育程度</th>\n      <th>妊娠时间（周数）</th>\n      <th>分娩方式</th>\n      <th>CBTS</th>\n      <th>EPDS</th>\n      <th>HADS</th>\n    </tr>\n  </thead>\n  <tbody>\n    <tr>\n      <th>0</th>\n      <td>2.0</td>\n      <td>34</td>\n      <td>2</td>\n      <td>5</td>\n      <td>37.0</td>\n      <td>1</td>\n      <td>3</td>\n      <td>13</td>\n      <td>9</td>\n    </tr>\n    <tr>\n      <th>1</th>\n      <td>4.0</td>\n      <td>33</td>\n      <td>2</td>\n      <td>5</td>\n      <td>42.0</td>\n      <td>1</td>\n      <td>0</td>\n      <td>0</td>\n      <td>3</td>\n    </tr>\n    <tr>\n      <th>2</th>\n      <td>4.0</td>\n      <td>37</td>\n      <td>2</td>\n      <td>5</td>\n      <td>41.0</td>\n      <td>1</td>\n      <td>4</td>\n      <td>8</td>\n      <td>9</td>\n    </tr>\n    <tr>\n      <th>3</th>\n      <td>3.0</td>\n      <td>31</td>\n      <td>2</td>\n      <td>5</td>\n      <td>37.5</td>\n      <td>1</td>\n      <td>6</td>\n      <td>16</td>\n      <td>13</td>\n    </tr>\n    <tr>\n      <th>4</th>\n      <td>4.0</td>\n      <td>36</td>\n      <td>1</td>\n      <td>5</td>\n      <td>40.0</td>\n      <td>1</td>\n      <td>1</td>\n      <td>3</td>\n      <td>3</td>\n    </tr>\n    <tr>\n      <th>...</th>\n      <td>...</td>\n      <td>...</td>\n      <td>...</td>\n      <td>...</td>\n      <td>...</td>\n      <td>...</td>\n      <td>...</td>\n      <td>...</td>\n      <td>...</td>\n    </tr>\n    <tr>\n      <th>395</th>\n      <td>NaN</td>\n      <td>31</td>\n      <td>2</td>\n      <td>3</td>\n      <td>39.5</td>\n      <td>1</td>\n      <td>1</td>\n      <td>4</td>\n      <td>4</td>\n    </tr>\n    <tr>\n      <th>396</th>\n      <td>NaN</td>\n      <td>26</td>\n      <td>2</td>\n      <td>2</td>\n      <td>37.0</td>\n      <td>1</td>\n      <td>4</td>\n      <td>9</td>\n      <td>14</td>\n    </tr>\n    <tr>\n      <th>397</th>\n      <td>NaN</td>\n      <td>26</td>\n      <td>2</td>\n      <td>5</td>\n      <td>39.0</td>\n      <td>1</td>\n      <td>0</td>\n      <td>3</td>\n      <td>3</td>\n    </tr>\n    <tr>\n      <th>398</th>\n      <td>NaN</td>\n      <td>27</td>\n      <td>2</td>\n      <td>5</td>\n      <td>41.2</td>\n      <td>1</td>\n      <td>0</td>\n      <td>0</td>\n      <td>4</td>\n    </tr>\n    <tr>\n      <th>399</th>\n      <td>NaN</td>\n      <td>31</td>\n      <td>2</td>\n      <td>5</td>\n      <td>38.0</td>\n      <td>1</td>\n      <td>3</td>\n      <td>7</td>\n      <td>7</td>\n    </tr>\n  </tbody>\n</table>\n<p>400 rows × 9 columns</p>\n</div>"
     },
     "execution_count": 56,
     "metadata": {},
     "output_type": "execute_result"
    }
   ],
   "source": [
    "\"\"\"\n",
    "数据的导入\n",
    "\"\"\"\n",
    "data = pd.read_excel('第四问进行预测的数据2.xlsx')\n",
    "# # 妊娠时间小于37记为1,37-42是2,大于42就是3\n",
    "# data['妊娠时间（周数）'] = data['妊娠时间（周数）'].apply(lambda x: 1 if x < 37 else (2 if x < 42 else 3))\n",
    "# # 对于EPDS这一列,0-10是0,11-12是1,13以上是2\n",
    "# data['EPDS'] = data['EPDS'].apply(lambda x: 0 if x < 11 else (1 if x < 13 else 2))\n",
    "# # 对于HADS这一列 0-7为0,8-10是1,11-21是2\n",
    "# data['HADS'] = data['HADS'].apply(lambda x: 0 if x < 8 else (1 if x < 11 else 2))\n",
    "# # 对于CBTS这一列,\n",
    "data\n"
   ],
   "metadata": {
    "collapsed": false,
    "pycharm": {
     "name": "#%%\n"
    }
   }
  },
  {
   "cell_type": "code",
   "execution_count": 66,
   "outputs": [
    {
     "data": {
      "text/plain": "<Figure size 1000x600 with 1 Axes>",
      "image/png": "[encoded data removed]"
     },
     "metadata": {},
     "output_type": "display_data"
    }
   ],
   "source": [
    "\"\"\"\n",
    "对睡眠质量进行可视化,画出柱状图\n",
    "\"\"\"\n",
    "plt.figure(figsize=(10, 6))\n",
    "sns.countplot(x='睡眠质量', data=data)\n",
    "plt.xlabel('睡眠质量评级',fontdict={'size': 15})\n",
    "plt.ylabel('人数',fontdict={'size': 15})\n",
    "plt.show()"
   ],
   "metadata": {
    "collapsed": false,
    "pycharm": {
     "name": "#%%\n"
    }
   }
  },
  {
   "cell_type": "code",
   "execution_count": 58,
   "outputs": [
    {
     "data": {
      "text/plain": "     睡眠质量  母亲年龄  婚姻状况  教育程度  妊娠时间（周数）  分娩方式  CBTS  EPDS  HADS\n0     2.0    34     2     5      37.0     1     3    13     9\n1     4.0    33     2     5      42.0     1     0     0     3\n2     4.0    37     2     5      41.0     1     4     8     9\n3     3.0    31     2     5      37.5     1     6    16    13\n4     4.0    36     1     5      40.0     1     1     3     3\n..    ...   ...   ...   ...       ...   ...   ...   ...   ...\n295   1.0    34     2     5      39.5     1     4     6     1\n296   3.0    36     2     5      36.3     1     8     5    11\n297   4.0    37     2     3      40.3     1    21    14     6\n298   3.0    32     2     5      41.1     1     6    14    12\n299   3.0    37     2     5      41.0     1     8    12     8\n\n[300 rows x 9 columns]",
      "text/html": "<div>\n<style scoped>\n    .dataframe tbody tr th:only-of-type {\n        vertical-align: middle;\n    }\n\n    .dataframe tbody tr th {\n        vertical-align: top;\n    }\n\n    .dataframe thead th {\n        text-align: right;\n    }\n</style>\n<table border=\"1\" class=\"dataframe\">\n  <thead>\n    <tr style=\"text-align: right;\">\n      <th></th>\n      <th>睡眠质量</th>\n      <th>母亲年龄</th>\n      <th>婚姻状况</th>\n      <th>教育程度</th>\n      <th>妊娠时间（周数）</th>\n      <th>分娩方式</th>\n      <th>CBTS</th>\n      <th>EPDS</th>\n      <th>HADS</th>\n    </tr>\n  </thead>\n  <tbody>\n    <tr>\n      <th>0</th>\n      <td>2.0</td>\n      <td>34</td>\n      <td>2</td>\n      <td>5</td>\n      <td>37.0</td>\n      <td>1</td>\n      <td>3</td>\n      <td>13</td>\n      <td>9</td>\n    </tr>\n    <tr>\n      <th>1</th>\n      <td>4.0</td>\n      <td>33</td>\n      <td>2</td>\n      <td>5</td>\n      <td>42.0</td>\n      <td>1</td>\n      <td>0</td>\n      <td>0</td>\n      <td>3</td>\n    </tr>\n    <tr>\n      <th>2</th>\n      <td>4.0</td>\n      <td>37</td>\n      <td>2</td>\n      <td>5</td>\n      <td>41.0</td>\n      <td>1</td>\n      <td>4</td>\n      <td>8</td>\n      <td>9</td>\n    </tr>\n    <tr>\n      <th>3</th>\n      <td>3.0</td>\n      <td>31</td>\n      <td>2</td>\n      <td>5</td>\n      <td>37.5</td>\n      <td>1</td>\n      <td>6</td>\n      <td>16</td>\n      <td>13</td>\n    </tr>\n    <tr>\n      <th>4</th>\n      <td>4.0</td>\n      <td>36</td>\n      <td>1</td>\n      <td>5</td>\n      <td>40.0</td>\n      <td>1</td>\n      <td>1</td>\n      <td>3</td>\n      <td>3</td>\n    </tr>\n    <tr>\n      <th>...</th>\n      <td>...</td>\n      <td>...</td>\n      <td>...</td>\n      <td>...</td>\n      <td>...</td>\n      <td>...</td>\n      <td>...</td>\n      <td>...</td>\n      <td>...</td>\n    </tr>\n    <tr>\n      <th>295</th>\n      <td>1.0</td>\n      <td>34</td>\n      <td>2</td>\n      <td>5</td>\n      <td>39.5</td>\n      <td>1</td>\n      <td>4</td>\n      <td>6</td>\n      <td>1</td>\n    </tr>\n    <tr>\n      <th>296</th>\n      <td>3.0</td>\n      <td>36</td>\n      <td>2</td>\n      <td>5</td>\n      <td>36.3</td>\n      <td>1</td>\n      <td>8</td>\n      <td>5</td>\n      <td>11</td>\n    </tr>\n    <tr>\n      <th>297</th>\n      <td>4.0</td>\n      <td>37</td>\n      <td>2</td>\n      <td>3</td>\n      <td>40.3</td>\n      <td>1</td>\n      <td>21</td>\n      <td>14</td>\n      <td>6</td>\n    </tr>\n    <tr>\n      <th>298</th>\n      <td>3.0</td>\n      <td>32</td>\n      <td>2</td>\n      <td>5</td>\n      <td>41.1</td>\n      <td>1</td>\n      <td>6</td>\n      <td>14</td>\n      <td>12</td>\n    </tr>\n    <tr>\n      <th>299</th>\n      <td>3.0</td>\n      <td>37</td>\n      <td>2</td>\n      <td>5</td>\n      <td>41.0</td>\n      <td>1</td>\n      <td>8</td>\n      <td>12</td>\n      <td>8</td>\n    </tr>\n  </tbody>\n</table>\n<p>300 rows × 9 columns</p>\n</div>"
     },
     "execution_count": 58,
     "metadata": {},
     "output_type": "execute_result"
    }
   ],
   "source": [
    "train_data = data.iloc[:300, :]\n",
    "test_data = data.iloc[300:380, :]\n",
    "train_data"
   ],
   "metadata": {
    "collapsed": false,
    "pycharm": {
     "name": "#%%\n"
    }
   }
  },
  {
   "cell_type": "code",
   "execution_count": 59,
   "outputs": [
    {
     "name": "stderr",
     "output_type": "stream",
     "text": [
      "No path specified. Models will be saved in: \"AutogluonModels\\ag-20230813_021730\\\"\n",
      "Beginning AutoGluon training ...\n",
      "AutoGluon will save models to \"AutogluonModels\\ag-20230813_021730\\\"\n",
      "AutoGluon Version:  0.8.2\n",
      "Python Version:     3.9.13\n",
      "Operating System:   Windows\n",
      "Platform Machine:   AMD64\n",
      "Platform Version:   10.0.19045\n",
      "Disk Space Avail:   15.33 GB / 115.76 GB (13.2%)\n",
      "Train Data Rows:    300\n",
      "Train Data Columns: 8\n",
      "Label Column: 睡眠质量\n",
      "Preprocessing data ...\n",
      "AutoGluon infers your prediction problem is: 'multiclass' (because dtype of label-column == float, but few unique label-values observed and label-values can be converted to int).\n",
      "\t4 unique label values:  [2.0, 4.0, 3.0, 1.0]\n",
      "\tIf 'multiclass' is not the correct problem_type, please manually specify the problem_type parameter during predictor init (You may specify problem_type as one of: ['binary', 'multiclass', 'regression'])\n",
      "Train Data Class Count: 4\n",
      "Using Feature Generators to preprocess the data ...\n",
      "Fitting AutoMLPipelineFeatureGenerator...\n",
      "\tAvailable Memory:                    5160.88 MB\n",
      "\tTrain Data (Original)  Memory Usage: 0.02 MB (0.0% of available memory)\n",
      "\tInferring data type of each feature based on column values. Set feature_metadata_in to manually specify special dtypes of the features.\n",
      "\tStage 1 Generators:\n",
      "\t\tFitting AsTypeFeatureGenerator...\n",
      "\t\t\tNote: Converting 2 features to boolean dtype as they only contain 2 unique values.\n",
      "\tStage 2 Generators:\n",
      "\t\tFitting FillNaFeatureGenerator...\n",
      "\tStage 3 Generators:\n",
      "\t\tFitting IdentityFeatureGenerator...\n",
      "\tStage 4 Generators:\n",
      "\t\tFitting DropUniqueFeatureGenerator...\n",
      "\tStage 5 Generators:\n",
      "\t\tFitting DropDuplicatesFeatureGenerator...\n",
      "\tTypes of features in original data (raw dtype, special dtypes):\n",
      "\t\t('float', []) : 1 | ['妊娠时间（周数）']\n",
      "\t\t('int', [])   : 7 | ['母亲年龄', '婚姻状况', '教育程度', '分娩方式', 'CBTS', ...]\n",
      "\tTypes of features in processed data (raw dtype, special dtypes):\n",
      "\t\t('float', [])     : 1 | ['妊娠时间（周数）']\n",
      "\t\t('int', [])       : 5 | ['母亲年龄', '教育程度', 'CBTS', 'EPDS', 'HADS']\n",
      "\t\t('int', ['bool']) : 2 | ['婚姻状况', '分娩方式']\n",
      "\t0.0s = Fit runtime\n",
      "\t8 features in original data used to generate 8 features in processed data.\n",
      "\tTrain Data (Processed) Memory Usage: 0.02 MB (0.0% of available memory)\n",
      "Data preprocessing and feature engineering runtime = 0.06s ...\n",
      "AutoGluon will gauge predictive performance using evaluation metric: 'accuracy'\n",
      "\tTo change this, specify the eval_metric parameter of Predictor()\n",
      "Automatically generating train/validation split with holdout_frac=0.2, Train Rows: 240, Val Rows: 60\n",
      "User-specified model hyperparameters to be fit:\n",
      "{\n",
      "\t'NN_TORCH': {},\n",
      "\t'GBM': [{'extra_trees': True, 'ag_args': {'name_suffix': 'XT'}}, {}, 'GBMLarge'],\n",
      "\t'CAT': {},\n",
      "\t'XGB': {},\n",
      "\t'FASTAI': {},\n",
      "\t'RF': [{'criterion': 'gini', 'ag_args': {'name_suffix': 'Gini', 'problem_types': ['binary', 'multiclass']}}, {'criterion': 'entropy', 'ag_args': {'name_suffix': 'Entr', 'problem_types': ['binary', 'multiclass']}}, {'criterion': 'squared_error', 'ag_args': {'name_suffix': 'MSE', 'problem_types': ['regression', 'quantile']}}],\n",
      "\t'XT': [{'criterion': 'gini', 'ag_args': {'name_suffix': 'Gini', 'problem_types': ['binary', 'multiclass']}}, {'criterion': 'entropy', 'ag_args': {'name_suffix': 'Entr', 'problem_types': ['binary', 'multiclass']}}, {'criterion': 'squared_error', 'ag_args': {'name_suffix': 'MSE', 'problem_types': ['regression', 'quantile']}}],\n",
      "\t'KNN': [{'weights': 'uniform', 'ag_args': {'name_suffix': 'Unif'}}, {'weights': 'distance', 'ag_args': {'name_suffix': 'Dist'}}],\n",
      "}\n",
      "Fitting 13 L1 models ...\n",
      "Fitting model: KNeighborsUnif ...\n",
      "\t0.2833\t = Validation score   (accuracy)\n",
      "\t0.01s\t = Training   runtime\n",
      "\t0.01s\t = Validation runtime\n",
      "Fitting model: KNeighborsDist ...\n",
      "\t0.2833\t = Validation score   (accuracy)\n",
      "\t0.01s\t = Training   runtime\n",
      "\t0.01s\t = Validation runtime\n",
      "Fitting model: NeuralNetFastAI ...\n",
      "No improvement since epoch 5: early stopping\n",
      "\t0.35\t = Validation score   (accuracy)\n",
      "\t1.45s\t = Training   runtime\n",
      "\t0.01s\t = Validation runtime\n",
      "Fitting model: LightGBMXT ...\n",
      "\t0.4667\t = Validation score   (accuracy)\n",
      "\t0.46s\t = Training   runtime\n",
      "\t0.0s\t = Validation runtime\n",
      "Fitting model: LightGBM ...\n",
      "\t0.4\t = Validation score   (accuracy)\n",
      "\t0.49s\t = Training   runtime\n",
      "\t0.0s\t = Validation runtime\n",
      "Fitting model: RandomForestGini ...\n",
      "\t0.3333\t = Validation score   (accuracy)\n",
      "\t0.45s\t = Training   runtime\n",
      "\t0.04s\t = Validation runtime\n",
      "Fitting model: RandomForestEntr ...\n",
      "\t0.35\t = Validation score   (accuracy)\n",
      "\t0.45s\t = Training   runtime\n",
      "\t0.04s\t = Validation runtime\n",
      "Fitting model: CatBoost ...\n",
      "\t0.4167\t = Validation score   (accuracy)\n",
      "\t0.39s\t = Training   runtime\n",
      "\t0.0s\t = Validation runtime\n",
      "Fitting model: ExtraTreesGini ...\n",
      "\t0.3167\t = Validation score   (accuracy)\n",
      "\t0.45s\t = Training   runtime\n",
      "\t0.04s\t = Validation runtime\n",
      "Fitting model: ExtraTreesEntr ...\n",
      "\t0.3333\t = Validation score   (accuracy)\n",
      "\t0.45s\t = Training   runtime\n",
      "\t0.04s\t = Validation runtime\n",
      "Fitting model: XGBoost ...\n",
      "\t0.3833\t = Validation score   (accuracy)\n",
      "\t0.58s\t = Training   runtime\n",
      "\t0.0s\t = Validation runtime\n",
      "Fitting model: NeuralNetTorch ...\n",
      "\t0.45\t = Validation score   (accuracy)\n",
      "\t0.89s\t = Training   runtime\n",
      "\t0.01s\t = Validation runtime\n",
      "Fitting model: LightGBMLarge ...\n",
      "\t0.4833\t = Validation score   (accuracy)\n",
      "\t1.05s\t = Training   runtime\n",
      "\t0.0s\t = Validation runtime\n",
      "Fitting model: WeightedEnsemble_L2 ...\n",
      "\t0.5\t = Validation score   (accuracy)\n",
      "\t0.45s\t = Training   runtime\n",
      "\t0.0s\t = Validation runtime\n",
      "AutoGluon training complete, total runtime = 8.08s ... Best model: \"WeightedEnsemble_L2\"\n",
      "TabularPredictor saved. To load, use: predictor = TabularPredictor.load(\"AutogluonModels\\ag-20230813_021730\\\")\n"
     ]
    }
   ],
   "source": [
    "label = '睡眠质量'\n",
    "predictor = TabularPredictor(label=label).fit(train_data)"
   ],
   "metadata": {
    "collapsed": false,
    "pycharm": {
     "name": "#%%\n"
    }
   }
  },
  {
   "cell_type": "code",
   "execution_count": 60,
   "outputs": [
    {
     "data": {
      "text/plain": "300    3.0\n301    3.0\n302    4.0\n303    3.0\n304    3.0\n      ... \n375    3.0\n376    3.0\n377    3.0\n378    3.0\n379    3.0\nName: 睡眠质量, Length: 80, dtype: float64"
     },
     "execution_count": 60,
     "metadata": {},
     "output_type": "execute_result"
    }
   ],
   "source": [
    "y_pred = predictor.predict(test_data.drop(columns=[label]))\n",
    "y_pred"
   ],
   "metadata": {
    "collapsed": false,
    "pycharm": {
     "name": "#%%\n"
    }
   }
  },
  {
   "cell_type": "code",
   "execution_count": 65,
   "outputs": [
    {
     "data": {
      "text/plain": "231    3.0\nName: 睡眠质量, dtype: float64"
     },
     "execution_count": 65,
     "metadata": {},
     "output_type": "execute_result"
    }
   ],
   "source": [
    "\"\"\"\n",
    "预测第230行的睡眠质量\n",
    "\"\"\"\n",
    "predictor.predict(data.iloc[[231]].drop(columns=[label]))"
   ],
   "metadata": {
    "collapsed": false,
    "pycharm": {
     "name": "#%%\n"
    }
   }
  },
  {
   "cell_type": "code",
   "execution_count": 61,
   "outputs": [
    {
     "data": {
      "text/plain": "                  model  score_test  score_val  pred_time_test  pred_time_val  \\\n0              LightGBM      0.3375   0.400000        0.002001       0.001001   \n1        NeuralNetTorch      0.3375   0.450000        0.009002       0.006001   \n2              CatBoost      0.3125   0.416667        0.002001       0.001001   \n3   WeightedEnsemble_L2      0.3125   0.500000        0.006002       0.003002   \n4        KNeighborsDist      0.3125   0.283333        0.009001       0.012004   \n5            LightGBMXT      0.3000   0.466667        0.002002       0.001000   \n6        KNeighborsUnif      0.3000   0.283333        0.011570       0.011002   \n7      RandomForestGini      0.3000   0.333333        0.059013       0.041010   \n8        ExtraTreesEntr      0.2875   0.333333        0.056012       0.042010   \n9         LightGBMLarge      0.2750   0.483333        0.000999       0.001000   \n10       ExtraTreesGini      0.2750   0.316667        0.053013       0.043011   \n11      NeuralNetFastAI      0.2625   0.350000        0.014561       0.009001   \n12     RandomForestEntr      0.2625   0.350000        0.126029       0.040009   \n13              XGBoost      0.2250   0.383333        0.031006       0.003001   \n\n    fit_time  pred_time_test_marginal  pred_time_val_marginal  \\\n0   0.485246                 0.002001                0.001001   \n1   0.893533                 0.009002                0.006001   \n2   0.389069                 0.002001                0.001001   \n3   1.962625                 0.003001                0.001002   \n4   0.005999                 0.009001                0.012004   \n5   0.462102                 0.002002                0.001000   \n6   0.006002                 0.011570                0.011002   \n7   0.450102                 0.059013                0.041010   \n8   0.449093                 0.056012                0.042010   \n9   1.047409                 0.000999                0.001000   \n10  0.451240                 0.053013                0.043011   \n11  1.449617                 0.014561                0.009001   \n12  0.450337                 0.126029                0.040009   \n13  0.575214                 0.031006                0.003001   \n\n    fit_time_marginal  stack_level  can_infer  fit_order  \n0            0.485246            1       True          5  \n1            0.893533            1       True         12  \n2            0.389069            1       True          8  \n3            0.453115            2       True         14  \n4            0.005999            1       True          2  \n5            0.462102            1       True          4  \n6            0.006002            1       True          1  \n7            0.450102            1       True          6  \n8            0.449093            1       True         10  \n9            1.047409            1       True         13  \n10           0.451240            1       True          9  \n11           1.449617            1       True          3  \n12           0.450337            1       True          7  \n13           0.575214            1       True         11  ",
      "text/html": "<div>\n<style scoped>\n    .dataframe tbody tr th:only-of-type {\n        vertical-align: middle;\n    }\n\n    .dataframe tbody tr th {\n        vertical-align: top;\n    }\n\n    .dataframe thead th {\n        text-align: right;\n    }\n</style>\n<table border=\"1\" class=\"dataframe\">\n  <thead>\n    <tr style=\"text-align: right;\">\n      <th></th>\n      <th>model</th>\n      <th>score_test</th>\n      <th>score_val</th>\n      <th>pred_time_test</th>\n      <th>pred_time_val</th>\n      <th>fit_time</th>\n      <th>pred_time_test_marginal</th>\n      <th>pred_time_val_marginal</th>\n      <th>fit_time_marginal</th>\n      <th>stack_level</th>\n      <th>can_infer</th>\n      <th>fit_order</th>\n    </tr>\n  </thead>\n  <tbody>\n    <tr>\n      <th>0</th>\n      <td>LightGBM</td>\n      <td>0.3375</td>\n      <td>0.400000</td>\n      <td>0.002001</td>\n      <td>0.001001</td>\n      <td>0.485246</td>\n      <td>0.002001</td>\n      <td>0.001001</td>\n      <td>0.485246</td>\n      <td>1</td>\n      <td>True</td>\n      <td>5</td>\n    </tr>\n    <tr>\n      <th>1</th>\n      <td>NeuralNetTorch</td>\n      <td>0.3375</td>\n      <td>0.450000</td>\n      <td>0.009002</td>\n      <td>0.006001</td>\n      <td>0.893533</td>\n      <td>0.009002</td>\n      <td>0.006001</td>\n      <td>0.893533</td>\n      <td>1</td>\n      <td>True</td>\n      <td>12</td>\n    </tr>\n    <tr>\n      <th>2</th>\n      <td>CatBoost</td>\n      <td>0.3125</td>\n      <td>0.416667</td>\n      <td>0.002001</td>\n      <td>0.001001</td>\n      <td>0.389069</td>\n      <td>0.002001</td>\n      <td>0.001001</td>\n      <td>0.389069</td>\n      <td>1</td>\n      <td>True</td>\n      <td>8</td>\n    </tr>\n    <tr>\n      <th>3</th>\n      <td>WeightedEnsemble_L2</td>\n      <td>0.3125</td>\n      <td>0.500000</td>\n      <td>0.006002</td>\n      <td>0.003002</td>\n      <td>1.962625</td>\n      <td>0.003001</td>\n      <td>0.001002</td>\n      <td>0.453115</td>\n      <td>2</td>\n      <td>True</td>\n      <td>14</td>\n    </tr>\n    <tr>\n      <th>4</th>\n      <td>KNeighborsDist</td>\n      <td>0.3125</td>\n      <td>0.283333</td>\n      <td>0.009001</td>\n      <td>0.012004</td>\n      <td>0.005999</td>\n      <td>0.009001</td>\n      <td>0.012004</td>\n      <td>0.005999</td>\n      <td>1</td>\n      <td>True</td>\n      <td>2</td>\n    </tr>\n    <tr>\n      <th>5</th>\n      <td>LightGBMXT</td>\n      <td>0.3000</td>\n      <td>0.466667</td>\n      <td>0.002002</td>\n      <td>0.001000</td>\n      <td>0.462102</td>\n      <td>0.002002</td>\n      <td>0.001000</td>\n      <td>0.462102</td>\n      <td>1</td>\n      <td>True</td>\n      <td>4</td>\n    </tr>\n    <tr>\n      <th>6</th>\n      <td>KNeighborsUnif</td>\n      <td>0.3000</td>\n      <td>0.283333</td>\n      <td>0.011570</td>\n      <td>0.011002</td>\n      <td>0.006002</td>\n      <td>0.011570</td>\n      <td>0.011002</td>\n      <td>0.006002</td>\n      <td>1</td>\n      <td>True</td>\n      <td>1</td>\n    </tr>\n    <tr>\n      <th>7</th>\n      <td>RandomForestGini</td>\n      <td>0.3000</td>\n      <td>0.333333</td>\n      <td>0.059013</td>\n      <td>0.041010</td>\n      <td>0.450102</td>\n      <td>0.059013</td>\n      <td>0.041010</td>\n      <td>0.450102</td>\n      <td>1</td>\n      <td>True</td>\n      <td>6</td>\n    </tr>\n    <tr>\n      <th>8</th>\n      <td>ExtraTreesEntr</td>\n      <td>0.2875</td>\n      <td>0.333333</td>\n      <td>0.056012</td>\n      <td>0.042010</td>\n      <td>0.449093</td>\n      <td>0.056012</td>\n      <td>0.042010</td>\n      <td>0.449093</td>\n      <td>1</td>\n      <td>True</td>\n      <td>10</td>\n    </tr>\n    <tr>\n      <th>9</th>\n      <td>LightGBMLarge</td>\n      <td>0.2750</td>\n      <td>0.483333</td>\n      <td>0.000999</td>\n      <td>0.001000</td>\n      <td>1.047409</td>\n      <td>0.000999</td>\n      <td>0.001000</td>\n      <td>1.047409</td>\n      <td>1</td>\n      <td>True</td>\n      <td>13</td>\n    </tr>\n    <tr>\n      <th>10</th>\n      <td>ExtraTreesGini</td>\n      <td>0.2750</td>\n      <td>0.316667</td>\n      <td>0.053013</td>\n      <td>0.043011</td>\n      <td>0.451240</td>\n      <td>0.053013</td>\n      <td>0.043011</td>\n      <td>0.451240</td>\n      <td>1</td>\n      <td>True</td>\n      <td>9</td>\n    </tr>\n    <tr>\n      <th>11</th>\n      <td>NeuralNetFastAI</td>\n      <td>0.2625</td>\n      <td>0.350000</td>\n      <td>0.014561</td>\n      <td>0.009001</td>\n      <td>1.449617</td>\n      <td>0.014561</td>\n      <td>0.009001</td>\n      <td>1.449617</td>\n      <td>1</td>\n      <td>True</td>\n      <td>3</td>\n    </tr>\n    <tr>\n      <th>12</th>\n      <td>RandomForestEntr</td>\n      <td>0.2625</td>\n      <td>0.350000</td>\n      <td>0.126029</td>\n      <td>0.040009</td>\n      <td>0.450337</td>\n      <td>0.126029</td>\n      <td>0.040009</td>\n      <td>0.450337</td>\n      <td>1</td>\n      <td>True</td>\n      <td>7</td>\n    </tr>\n    <tr>\n      <th>13</th>\n      <td>XGBoost</td>\n      <td>0.2250</td>\n      <td>0.383333</td>\n      <td>0.031006</td>\n      <td>0.003001</td>\n      <td>0.575214</td>\n      <td>0.031006</td>\n      <td>0.003001</td>\n      <td>0.575214</td>\n      <td>1</td>\n      <td>True</td>\n      <td>11</td>\n    </tr>\n  </tbody>\n</table>\n</div>"
     },
     "execution_count": 61,
     "metadata": {},
     "output_type": "execute_result"
    }
   ],
   "source": [
    "predictor.leaderboard(test_data, silent=True)"
   ],
   "metadata": {
    "collapsed": false,
    "pycharm": {
     "name": "#%%\n"
    }
   }
  },
  {
   "cell_type": "code",
   "execution_count": 62,
   "outputs": [
    {
     "data": {
      "text/plain": "380    3.0\n381    3.0\n382    3.0\n383    4.0\n384    3.0\n385    3.0\n386    4.0\n387    3.0\n388    3.0\n389    4.0\n390    3.0\n391    3.0\n392    3.0\n393    4.0\n394    4.0\n395    3.0\n396    3.0\n397    3.0\n398    3.0\n399    3.0\nName: 睡眠质量, dtype: float64"
     },
     "execution_count": 62,
     "metadata": {},
     "output_type": "execute_result"
    }
   ],
   "source": [
    "# 预测最后20行\n",
    "predictor.predict(data.iloc[380:, :].drop(columns=[label]))"
   ],
   "metadata": {
    "collapsed": false,
    "pycharm": {
     "name": "#%%\n"
    }
   }
  },
  {
   "cell_type": "code",
   "execution_count": 62,
   "outputs": [],
   "source": [],
   "metadata": {
    "collapsed": false,
    "pycharm": {
     "name": "#%%\n"
    }
   }
  }
 ],
 "metadata": {
  "kernelspec": {
   "display_name": "Python 3",
   "language": "python",
   "name": "python3"
  },
  "language_info": {
   "codemirror_mode": {
    "name": "ipython",
    "version": 2
   },
   "file_extension": ".py",
   "mimetype": "text/x-python",
   "name": "python",
   "nbconvert_exporter": "python",
   "pygments_lexer": "ipython2",
   "version": "2.7.6"
  }
 },
 "nbformat": 4,
 "nbformat_minor": 0
}