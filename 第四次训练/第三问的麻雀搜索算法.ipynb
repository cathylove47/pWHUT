{
 "cells": [
  {
   "cell_type": "code",
   "execution_count": 1,
   "metadata": {
    "collapsed": true,
    "pycharm": {
     "name": "#%%\n"
    }
   },
   "outputs": [],
   "source": [
    "import numpy as np\n",
    "import pandas as pd\n",
    "import matplotlib.pyplot as plt"
   ]
  },
  {
   "cell_type": "code",
   "execution_count": 2,
   "outputs": [],
   "source": [
    "import numpy as np\n",
    "class funtion():\n",
    "    def __init__(self):\n",
    "        print(\"starting SSA\")\n",
    "def Parameters(F):\n",
    "    if F=='F1':\n",
    "        # ParaValue=[-100,100,30] [-100,100]代表初始范围，30代表dim维度\n",
    "        ParaValue = [-100,100,30]\n",
    "\n",
    "    elif F=='F2':\n",
    "        ParaValue = [-10, 10, 30]\n",
    "\n",
    "    elif F=='F3':\n",
    "        ParaValue = [-100, 100, 30]\n",
    "\n",
    "    elif F=='F4':\n",
    "        ParaValue = [-100, 100, 30]\n",
    "\n",
    "    elif F=='F5':\n",
    "        ParaValue = [-30, 30, 30]\n",
    "\n",
    "    elif F=='F6':\n",
    "        ParaValue = [-100,100,30]\n",
    "        \"\"\"\n",
    "这里的意思是我们随机选取一个三维向量\n",
    "首先这三个向量要满足组我们的约束条件,即可以使得婴儿的行为特征发生改变\n",
    "后面才是计算花费的值要最小\n",
    "        \"\"\"\n",
    "    elif F == 'F7':\n",
    "        ParaValue = [0,30,3]\n",
    "\n",
    "    return ParaValue\n",
    "\n",
    "\n",
    "\n",
    "# 标准测试函数采用单峰测试函数（Dim = 30），计算适应度\n",
    "def fun(F,X):  # F代表函数名，X代表数据列表\n",
    "    if F == 'F1':\n",
    "        O = np.sum(X*X)\n",
    "\n",
    "    elif F == 'F2':\n",
    "        O = np.sum(np.abs(X))+np.prod(np.abs(X))\n",
    "\n",
    "    elif F == 'F3':\n",
    "        O = 0\n",
    "        for i in range(len(X)):\n",
    "            O = O+np.square(np.sum(X[0:i+1]))\n",
    "\n",
    "\n",
    "    elif F == 'F4':\n",
    "        O = np.max(np.abs(X))\n",
    "\n",
    "    elif F=='F5':\n",
    "        X_len = len(X)\n",
    "        O = np.sum(100 * np.square(X[1:X_len] - np.square(X[0:X_len - 1]))) + np.sum(np.square(X[0:X_len - 1] - 1))\n",
    "\n",
    "    elif F == 'F6':\n",
    "        O = np.sum(np.square(np.abs(X+0.5)))\n",
    "\n",
    "    elif F == 'F7':\n",
    "        O = 0\n",
    "    # 适应度函数为求三维向量的和\n",
    "        for i in range(len(X)):\n",
    "            O = O+X[i]\n",
    "    return O\n",
    "# 对超过边界的变量进行去除\n",
    "def Bounds(s,Lb,Ub):\n",
    "    temp = s\n",
    "    for i in range(len(s)):\n",
    "        if temp[i]<Lb[0,i]:\n",
    "            temp[i]=Lb[0,i]\n",
    "        elif temp[i]>Ub[0,i]:\n",
    "            temp[i]=Ub[0,i]\n",
    "\n",
    "    return temp\n",
    "\n",
    "# pop是种群，M是迭代次数，f是用来计算适应度的函数\n",
    "# pNum是生产者\n",
    "def SSA(pop,M,c,d,dim,f):\n",
    "    #global fit\n",
    "    P_percent=0.2\n",
    "    pNum = round(pop*P_percent)  # 生产者的人口规模占总人口规模的20%\n",
    "    lb = c*np.ones((1,dim))  # 生成1*dim的全1矩阵，并全乘以c；lb是下限\n",
    "    ub = d*np.ones((1,dim))  # ub是上限\n",
    "    X = np.zeros((pop,dim))  # 生成pop*dim的全0矩阵，代表麻雀位置\n",
    "    fit = np.zeros((pop,1))   # 适应度值初始化\n",
    "\n",
    "    for i in range(pop):\n",
    "        X[i,:] = lb+(ub-lb)*np.random.rand(1,dim)  # 麻雀属性随机初始化初始\n",
    "        fit[i,0] = fun(f,X[i,:])  # 初始化最佳适应度值\n",
    "\n",
    "\n",
    "    pFit = fit  #最佳适应度矩阵\n",
    "    pX = X  # 最佳种群位置\n",
    "    fMin = np.min(fit[:,0]) # fMin表示全局最优适应值，生产者能量储备水平取决于对个人适应度值的评估\n",
    "    bestI = np.argmin(fit[:,0])\n",
    "    bestX = X[bestI,:] # bestX表示fMin对应的全局最优位置的变量信息\n",
    "    Convergence_curve = np.zeros((1,M))  # 初始化收敛曲线\n",
    "    for t in range(M): # 迭代更新\n",
    "        sortIndex = np.argsort(pFit.T)  # 对麻雀的适应度值进行排序，并取出下标\n",
    "        fmax = np.max(pFit[:,0])  # 取出最大的适应度值\n",
    "        B = np.argmax(pFit[:,0])  # 取出最大的适应度值得下标\n",
    "        worse = X[B,:]  # 最差适应度\n",
    "\n",
    "        r2 = np.random.rand(1) # 预警值\n",
    "        # 这一部位为发现者（探索者）的位置更新\n",
    "        if r2 < 0.8: # 预警值较小，说明没有捕食者出现\n",
    "            for i in range(pNum):\n",
    "                r1 = np.random.rand(1)\n",
    "                X[sortIndex[0,i],:] = pX[sortIndex[0,i],:]*np.exp(-(i)/(r1*M))  # 对自变量做一个随机变换\n",
    "                X[sortIndex[0,i],:] = Bounds(X[sortIndex[0,i],:],lb,ub)  # 对超过边界的变量进行去除\n",
    "                fit[sortIndex[0,i],0] = fun(f,X[sortIndex[0,i],:])   # 算新的适应度值\n",
    "        elif r2 >= 0.8: # 预警值较大，说明有捕食者出现威胁到了种群的安全，需要去其它地方觅食\n",
    "            for i in range(pNum):\n",
    "                Q = np.random.rand(1)  # 也可以替换成  np.random.normal(loc=0, scale=1.0, size=1)\n",
    "                X[sortIndex[0,i],:] = pX[sortIndex[0,i],:]+Q*np.ones((1,dim))  # Q是服从正态分布的随机数。L表示一个1×d的矩阵\n",
    "                X[sortIndex[0,i],:] = Bounds(X[sortIndex[0,i],:],lb,ub)\n",
    "                fit[sortIndex[0,i],0] = fun(f,X[sortIndex[0,i],:])\n",
    "        bestII = np.argmin(fit[:,0])\n",
    "        bestXX = X[bestII,:]\n",
    "\n",
    "\n",
    "        #  这一部位为加入者（追随者）的位置更新\n",
    "        for ii in range(pop-pNum):\n",
    "            i = ii+pNum\n",
    "            A = np.floor(np.random.rand(1,dim)*2)*2-1\n",
    "            if i > pop/2:  #  这个代表这部分麻雀处于十分饥饿的状态（因为它们的能量很低，也就是适应度值很差），需要到其它地方觅食\n",
    "                Q = np.random.rand(1)  # 也可以替换成  np.random.normal(loc=0, scale=1.0, size=1)\n",
    "                X[sortIndex[0,i],:] = Q*np.exp(worse-pX[sortIndex[0,i],:]/np.square(i))\n",
    "            else:  # 这一部分追随者是围绕最好的发现者周围进行觅食，其间也有可能发生食物的争夺，使其自己变成生产者\n",
    "                X[sortIndex[0,i],:] = bestXX+np.dot(np.abs(pX[sortIndex[0,i],:]-bestXX),1/(A.T*np.dot(A,A.T)))*np.ones((1,dim))\n",
    "            X[sortIndex[0,i],:] = Bounds(X[sortIndex[0,i],:],lb,ub)\n",
    "            fit[sortIndex[0,i],0] = fun(f,X[sortIndex[0,i],:])\n",
    "\n",
    "        # 这一部位为意识到危险（注意这里只是意识到了危险，不代表出现了真正的捕食者）的麻雀的位置更新\n",
    "        # np.arange()函数返回一个有终点和起点的固定步长的排列，如[1,2,3,4,5]，起点是1，终点是5，步长为1。\n",
    "        # 一个参数时，参数值为终点，起点取默认值0，步长取默认值1\n",
    "        arrc = np.arange(len(sortIndex[0,:]))\n",
    "        #c=np.random.shuffle(arrc)\n",
    "        # 这个的作用是在种群中随机产生其位置（也就是这部分的麻雀位置一开始是随机的，意识到危险了要进行位置移动，\n",
    "        #  处于种群外围的麻雀向安全区域靠拢，处在种群中心的麻雀则随机行走以靠近别的麻雀）\n",
    "        c = np.random.permutation(arrc)  # 随机排列序列\n",
    "        b = sortIndex[0,c[0:20]]\n",
    "        for j in range(len(b)):\n",
    "            if pFit[sortIndex[0,b[j]],0] > fMin:\n",
    "                X[sortIndex[0,b[j]],:] = bestX+np.random.rand(1,dim)*np.abs(pX[sortIndex[0,b[j]],:]-bestX)\n",
    "            else:\n",
    "                X[sortIndex[0,b[j]],:] = pX[sortIndex[0,b[j]],:]+(2*np.random.rand(1)-1)*np.abs(pX[sortIndex[0,b[j]],:]-worse)/(pFit[sortIndex[0,b[j]]]-fmax+10**(-50))\n",
    "            X[sortIndex[0,b[j]],:] = Bounds(X[sortIndex[0,b[j]],:],lb,ub)\n",
    "            fit[sortIndex[0,b[j]],0] = fun(f,X[sortIndex[0,b[j]]])\n",
    "        for i in range(pop):\n",
    "\n",
    "            if fit[i,0] < pFit[i,0]:\n",
    "                pFit[i,0] = fit[i,0]\n",
    "                pX[i,:] = X[i,:]\n",
    "            if pFit[i,0] < fMin:\n",
    "                fMin = pFit[i,0]\n",
    "                bestX = pX[i,:]\n",
    "        Convergence_curve[0,t] = fMin\n",
    "        #print(fMin)\n",
    "        #print(bestX)\n",
    "    return fMin,bestX,Convergence_curve\n",
    "\n"
   ],
   "metadata": {
    "collapsed": false,
    "pycharm": {
     "name": "#%%\n"
    }
   }
  },
  {
   "cell_type": "code",
   "execution_count": 3,
   "outputs": [
    {
     "name": "stdout",
     "output_type": "stream",
     "text": [
      "['最优值为：', 0.0]\n",
      "['最优变量为：', array([0., 0., 0.])]\n"
     ]
    },
    {
     "data": {
      "text/plain": "<Figure size 640x480 with 1 Axes>",
      "image/png": "[encoded data removed]"
     },
     "metadata": {},
     "output_type": "display_data"
    }
   ],
   "source": [
    "SearchAgents_no=50 # 麻雀数量初始化\n",
    "Function_name='F7' # 标准测试函数\n",
    "Max_iteration=1000  # 最大迭代次数\n",
    "[lb,ub,dim]=Parameters(Function_name)  # 选择单峰测试函数为Function_name\n",
    "[fMin,bestX,SSA_curve]=SSA(SearchAgents_no,Max_iteration,lb,ub,dim,Function_name)\n",
    "print(['最优值为：',fMin])\n",
    "print(['最优变量为：',bestX])\n",
    "thr1=np.arange(len(SSA_curve[0,:]))\n",
    "plt.plot(thr1, SSA_curve[0,:])\n",
    "plt.xlabel('num')\n",
    "plt.ylabel('object value')\n",
    "plt.title('line')\n",
    "plt.show()"
   ],
   "metadata": {
    "collapsed": false,
    "pycharm": {
     "name": "#%%\n"
    }
   }
  },
  {
   "cell_type": "code",
   "execution_count": 3,
   "outputs": [],
   "source": [],
   "metadata": {
    "collapsed": false,
    "pycharm": {
     "name": "#%%\n"
    }
   }
  },
  {
   "cell_type": "code",
   "execution_count": 3,
   "outputs": [],
   "source": [],
   "metadata": {
    "collapsed": false,
    "pycharm": {
     "name": "#%%\n"
    }
   }
  }
 ],
 "metadata": {
  "kernelspec": {
   "display_name": "Python 3",
   "language": "python",
   "name": "python3"
  },
  "language_info": {
   "codemirror_mode": {
    "name": "ipython",
    "version": 2
   },
   "file_extension": ".py",
   "mimetype": "text/x-python",
   "name": "python",
   "nbconvert_exporter": "python",
   "pygments_lexer": "ipython2",
   "version": "2.7.6"
  }
 },
 "nbformat": 4,
 "nbformat_minor": 0
}