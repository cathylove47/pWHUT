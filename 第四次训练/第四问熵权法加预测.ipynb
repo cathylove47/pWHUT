{
 "cells": [
  {
   "cell_type": "code",
   "execution_count": 97,
   "metadata": {
    "collapsed": true,
    "pycharm": {
     "name": "#%%\n"
    }
   },
   "outputs": [],
   "source": [
    "from autogluon.tabular import TabularDataset, TabularPredictor\n",
    "import pandas as pd\n",
    "import numpy as np\n",
    "import matplotlib.pyplot as plt\n",
    "import seaborn as sns\n",
    "#设置中文\n",
    "plt.rcParams['font.sans-serif']=['SimHei']\n",
    "plt.rcParams['axes.unicode_minus']=False\n"
   ]
  },
  {
   "cell_type": "code",
   "execution_count": 98,
   "outputs": [
    {
     "data": {
      "text/plain": "     整晚睡眠时间（时：分：秒）  睡醒次数  入睡方式\n0             10.0     3     2\n1             11.0     0     4\n2             12.0     1     2\n3             11.0     2     1\n4             10.5     1     4\n..             ...   ...   ...\n375            9.0     1     2\n376           11.0     2     4\n377           10.5     2     1\n378            6.0     2     1\n379            9.0     0     4\n\n[380 rows x 3 columns]",
      "text/html": "<div>\n<style scoped>\n    .dataframe tbody tr th:only-of-type {\n        vertical-align: middle;\n    }\n\n    .dataframe tbody tr th {\n        vertical-align: top;\n    }\n\n    .dataframe thead th {\n        text-align: right;\n    }\n</style>\n<table border=\"1\" class=\"dataframe\">\n  <thead>\n    <tr style=\"text-align: right;\">\n      <th></th>\n      <th>整晚睡眠时间（时：分：秒）</th>\n      <th>睡醒次数</th>\n      <th>入睡方式</th>\n    </tr>\n  </thead>\n  <tbody>\n    <tr>\n      <th>0</th>\n      <td>10.0</td>\n      <td>3</td>\n      <td>2</td>\n    </tr>\n    <tr>\n      <th>1</th>\n      <td>11.0</td>\n      <td>0</td>\n      <td>4</td>\n    </tr>\n    <tr>\n      <th>2</th>\n      <td>12.0</td>\n      <td>1</td>\n      <td>2</td>\n    </tr>\n    <tr>\n      <th>3</th>\n      <td>11.0</td>\n      <td>2</td>\n      <td>1</td>\n    </tr>\n    <tr>\n      <th>4</th>\n      <td>10.5</td>\n      <td>1</td>\n      <td>4</td>\n    </tr>\n    <tr>\n      <th>...</th>\n      <td>...</td>\n      <td>...</td>\n      <td>...</td>\n    </tr>\n    <tr>\n      <th>375</th>\n      <td>9.0</td>\n      <td>1</td>\n      <td>2</td>\n    </tr>\n    <tr>\n      <th>376</th>\n      <td>11.0</td>\n      <td>2</td>\n      <td>4</td>\n    </tr>\n    <tr>\n      <th>377</th>\n      <td>10.5</td>\n      <td>2</td>\n      <td>1</td>\n    </tr>\n    <tr>\n      <th>378</th>\n      <td>6.0</td>\n      <td>2</td>\n      <td>1</td>\n    </tr>\n    <tr>\n      <th>379</th>\n      <td>9.0</td>\n      <td>0</td>\n      <td>4</td>\n    </tr>\n  </tbody>\n</table>\n<p>380 rows × 3 columns</p>\n</div>"
     },
     "execution_count": 98,
     "metadata": {},
     "output_type": "execute_result"
    }
   ],
   "source": [
    "\"\"\"\n",
    "导入数据\n",
    "\"\"\"\n",
    "pd.set_option('mode.chained_assignment', None)\n",
    "data = pd.read_excel('第一问预处理后的数据2.xlsx')\n",
    "# 选取整晚睡眠时间（时：分：秒）,睡醒次数,入睡方式 这三列\n",
    "data_3_lie = data [['整晚睡眠时间（时：分：秒）','睡醒次数','入睡方式']]\n",
    "data_3_lie"
   ],
   "metadata": {
    "collapsed": false,
    "pycharm": {
     "name": "#%%\n"
    }
   }
  },
  {
   "cell_type": "code",
   "execution_count": 99,
   "outputs": [
    {
     "data": {
      "text/plain": "     整晚睡眠时间（时：分：秒）  睡醒次数  入睡方式\n0         0.714286   0.7  0.25\n1         0.857143   1.0  0.75\n2         1.000000   0.9  0.25\n3         0.857143   0.8  0.00\n4         0.785714   0.9  0.75\n..             ...   ...   ...\n375       0.571429   0.9  0.25\n376       0.857143   0.8  0.75\n377       0.785714   0.8  0.00\n378       0.142857   0.8  0.00\n379       0.571429   1.0  0.75\n\n[380 rows x 3 columns]",
      "text/html": "<div>\n<style scoped>\n    .dataframe tbody tr th:only-of-type {\n        vertical-align: middle;\n    }\n\n    .dataframe tbody tr th {\n        vertical-align: top;\n    }\n\n    .dataframe thead th {\n        text-align: right;\n    }\n</style>\n<table border=\"1\" class=\"dataframe\">\n  <thead>\n    <tr style=\"text-align: right;\">\n      <th></th>\n      <th>整晚睡眠时间（时：分：秒）</th>\n      <th>睡醒次数</th>\n      <th>入睡方式</th>\n    </tr>\n  </thead>\n  <tbody>\n    <tr>\n      <th>0</th>\n      <td>0.714286</td>\n      <td>0.7</td>\n      <td>0.25</td>\n    </tr>\n    <tr>\n      <th>1</th>\n      <td>0.857143</td>\n      <td>1.0</td>\n      <td>0.75</td>\n    </tr>\n    <tr>\n      <th>2</th>\n      <td>1.000000</td>\n      <td>0.9</td>\n      <td>0.25</td>\n    </tr>\n    <tr>\n      <th>3</th>\n      <td>0.857143</td>\n      <td>0.8</td>\n      <td>0.00</td>\n    </tr>\n    <tr>\n      <th>4</th>\n      <td>0.785714</td>\n      <td>0.9</td>\n      <td>0.75</td>\n    </tr>\n    <tr>\n      <th>...</th>\n      <td>...</td>\n      <td>...</td>\n      <td>...</td>\n    </tr>\n    <tr>\n      <th>375</th>\n      <td>0.571429</td>\n      <td>0.9</td>\n      <td>0.25</td>\n    </tr>\n    <tr>\n      <th>376</th>\n      <td>0.857143</td>\n      <td>0.8</td>\n      <td>0.75</td>\n    </tr>\n    <tr>\n      <th>377</th>\n      <td>0.785714</td>\n      <td>0.8</td>\n      <td>0.00</td>\n    </tr>\n    <tr>\n      <th>378</th>\n      <td>0.142857</td>\n      <td>0.8</td>\n      <td>0.00</td>\n    </tr>\n    <tr>\n      <th>379</th>\n      <td>0.571429</td>\n      <td>1.0</td>\n      <td>0.75</td>\n    </tr>\n  </tbody>\n</table>\n<p>380 rows × 3 columns</p>\n</div>"
     },
     "execution_count": 99,
     "metadata": {},
     "output_type": "execute_result"
    }
   ],
   "source": [
    "\"\"\"\n",
    "第一列是正向标准化,第二列是负向标准化,第三列是正向标准化\n",
    "\"\"\"\n",
    "data_3_lie['整晚睡眠时间（时：分：秒）'] = (data_3_lie['整晚睡眠时间（时：分：秒）']-data_3_lie['整晚睡眠时间（时：分：秒）'].min())/(data_3_lie['整晚睡眠时间（时：分：秒）'].max()-data_3_lie['整晚睡眠时间（时：分：秒）'].min())\n",
    "data_3_lie['睡醒次数'] = (data_3_lie['睡醒次数'].max() - data_3_lie['睡醒次数'])/(data_3_lie['睡醒次数'].max()-data_3_lie['睡醒次数'].min())\n",
    "data_3_lie['入睡方式'] = (data_3_lie['入睡方式']-data_3_lie['入睡方式'].min())/(data_3_lie['入睡方式'].max()-data_3_lie['入睡方式'].min())\n",
    "data_3_lie"
   ],
   "metadata": {
    "collapsed": false,
    "pycharm": {
     "name": "#%%\n"
    }
   }
  },
  {
   "cell_type": "code",
   "execution_count": 100,
   "outputs": [
    {
     "data": {
      "text/plain": "[0.4970682442522301, 0.30376948501336964, 0.19916227073440038]"
     },
     "execution_count": 100,
     "metadata": {},
     "output_type": "execute_result"
    }
   ],
   "source": [
    "\"\"\"\n",
    "熵权法求熵权\n",
    "\"\"\"\n",
    "from scipy.stats import entropy\n",
    "data_3_lie_380 = data_3_lie.iloc[0:380,:]\n",
    "# 计算这三列的熵权值\n",
    "# 计算每个指标的信息熵\n",
    "entropy_list = []\n",
    "for i in range(3):\n",
    "    p = data_3_lie_380.iloc[:,i].value_counts()/len(data_3_lie_380.iloc[:,i])\n",
    "    entropy_list.append(entropy(p))\n",
    "# 计算每个指标的权重\n",
    "weight_list = []\n",
    "for j in range(3):\n",
    "    weight_list.append((1-entropy_list[j])/(3-sum(entropy_list)))\n",
    "weight_list\n",
    "\n"
   ],
   "metadata": {
    "collapsed": false,
    "pycharm": {
     "name": "#%%\n"
    }
   }
  },
  {
   "cell_type": "code",
   "execution_count": 101,
   "outputs": [
    {
     "data": {
      "text/plain": "     整晚睡眠时间（时：分：秒）  睡醒次数  入睡方式     score\n0         0.714286   0.7  0.25  0.617478\n1         0.857143   1.0  0.75  0.879200\n2         1.000000   0.9  0.25  0.820251\n3         0.857143   0.8  0.00  0.669074\n4         0.785714   0.9  0.75  0.813318\n..             ...   ...   ...       ...\n375       0.571429   0.9  0.25  0.607222\n376       0.857143   0.8  0.75  0.818446\n377       0.785714   0.8  0.00  0.633569\n378       0.142857   0.8  0.00  0.314025\n379       0.571429   1.0  0.75  0.737180\n\n[380 rows x 4 columns]",
      "text/html": "<div>\n<style scoped>\n    .dataframe tbody tr th:only-of-type {\n        vertical-align: middle;\n    }\n\n    .dataframe tbody tr th {\n        vertical-align: top;\n    }\n\n    .dataframe thead th {\n        text-align: right;\n    }\n</style>\n<table border=\"1\" class=\"dataframe\">\n  <thead>\n    <tr style=\"text-align: right;\">\n      <th></th>\n      <th>整晚睡眠时间（时：分：秒）</th>\n      <th>睡醒次数</th>\n      <th>入睡方式</th>\n      <th>score</th>\n    </tr>\n  </thead>\n  <tbody>\n    <tr>\n      <th>0</th>\n      <td>0.714286</td>\n      <td>0.7</td>\n      <td>0.25</td>\n      <td>0.617478</td>\n    </tr>\n    <tr>\n      <th>1</th>\n      <td>0.857143</td>\n      <td>1.0</td>\n      <td>0.75</td>\n      <td>0.879200</td>\n    </tr>\n    <tr>\n      <th>2</th>\n      <td>1.000000</td>\n      <td>0.9</td>\n      <td>0.25</td>\n      <td>0.820251</td>\n    </tr>\n    <tr>\n      <th>3</th>\n      <td>0.857143</td>\n      <td>0.8</td>\n      <td>0.00</td>\n      <td>0.669074</td>\n    </tr>\n    <tr>\n      <th>4</th>\n      <td>0.785714</td>\n      <td>0.9</td>\n      <td>0.75</td>\n      <td>0.813318</td>\n    </tr>\n    <tr>\n      <th>...</th>\n      <td>...</td>\n      <td>...</td>\n      <td>...</td>\n      <td>...</td>\n    </tr>\n    <tr>\n      <th>375</th>\n      <td>0.571429</td>\n      <td>0.9</td>\n      <td>0.25</td>\n      <td>0.607222</td>\n    </tr>\n    <tr>\n      <th>376</th>\n      <td>0.857143</td>\n      <td>0.8</td>\n      <td>0.75</td>\n      <td>0.818446</td>\n    </tr>\n    <tr>\n      <th>377</th>\n      <td>0.785714</td>\n      <td>0.8</td>\n      <td>0.00</td>\n      <td>0.633569</td>\n    </tr>\n    <tr>\n      <th>378</th>\n      <td>0.142857</td>\n      <td>0.8</td>\n      <td>0.00</td>\n      <td>0.314025</td>\n    </tr>\n    <tr>\n      <th>379</th>\n      <td>0.571429</td>\n      <td>1.0</td>\n      <td>0.75</td>\n      <td>0.737180</td>\n    </tr>\n  </tbody>\n</table>\n<p>380 rows × 4 columns</p>\n</div>"
     },
     "execution_count": 101,
     "metadata": {},
     "output_type": "execute_result"
    }
   ],
   "source": [
    "# 计算data_3_lie_380的加权之后的得分\n",
    "data_3_lie_380['score'] = data_3_lie_380['整晚睡眠时间（时：分：秒）']*weight_list[0]+data_3_lie_380['睡醒次数']*weight_list[1]+data_3_lie_380['入睡方式']*weight_list[2]\n",
    "data_3_lie_380"
   ],
   "metadata": {
    "collapsed": false,
    "pycharm": {
     "name": "#%%\n"
    }
   }
  },
  {
   "cell_type": "code",
   "execution_count": 102,
   "outputs": [
    {
     "name": "stderr",
     "output_type": "stream",
     "text": [
      "C:\\Users\\44279\\AppData\\Local\\Temp\\ipykernel_1032\\2838812038.py:4: UserWarning: \n",
      "\n",
      "`distplot` is a deprecated function and will be removed in seaborn v0.14.0.\n",
      "\n",
      "Please adapt your code to use either `displot` (a figure-level function with\n",
      "similar flexibility) or `histplot` (an axes-level function for histograms).\n",
      "\n",
      "For a guide to updating your code to use the new functions, please see\n",
      "https://gist.github.com/mwaskom/de44147ed2974457ad6372750bbe5751\n",
      "\n",
      "  sns.distplot(data_3_lie_380['score'])\n"
     ]
    },
    {
     "data": {
      "text/plain": "<Figure size 640x480 with 1 Axes>",
      "image/png": "[encoded data removed]"
     },
     "metadata": {},
     "output_type": "display_data"
    }
   ],
   "source": [
    "\"\"\"\n",
    "画出score的分布图\n",
    "\"\"\"\n",
    "sns.distplot(data_3_lie_380['score'])\n",
    "plt.show()\n"
   ],
   "metadata": {
    "collapsed": false,
    "pycharm": {
     "name": "#%%\n"
    }
   }
  },
  {
   "cell_type": "code",
   "execution_count": 112,
   "outputs": [],
   "source": [
    "\"\"\"\n",
    "将这380行数据按照score从大到小排序,分成四类,优,良,中,差 ,其中服从正态分布\n",
    "\"\"\"\n",
    "data_3_lie_380 = data_3_lie_380.sort_values(by='score',ascending=False)\n",
    "# 得分小于0.6的记为差\n",
    "data_3_lie_380.loc[data_3_lie_380['score']<0.5,'睡眠质量'] = '1'\n",
    "# 得分大于0.6小于0.8的记为中\n",
    "data_3_lie_380.loc[(data_3_lie_380['score']>=0.5)&(data_3_lie_380['score']<0.65),'睡眠质量'] = '2'\n",
    "# 得分大于0.8小于0.9的记为良\n",
    "data_3_lie_380.loc[(data_3_lie_380['score']>=0.65)&(data_3_lie_380['score']<0.81),'睡眠质量'] = '3'\n",
    "# 得分大于0.9的记为优\n",
    "data_3_lie_380.loc[data_3_lie_380['score']>=0.81,'睡眠质量'] = '4'\n",
    "\n",
    "# 再将这380行数据按顺序排列\n",
    "data_3_lie_380 = data_3_lie_380.sort_index()\n",
    "# 将data3_lie_380输出为excel\n",
    "data_3_lie_380.to_excel('第四问进行预测的数据2.xlsx')"
   ],
   "metadata": {
    "collapsed": false,
    "pycharm": {
     "name": "#%%\n"
    }
   }
  },
  {
   "cell_type": "code",
   "execution_count": 111,
   "outputs": [
    {
     "data": {
      "text/plain": "     整晚睡眠时间（时：分：秒）  睡醒次数  入睡方式     score 睡眠质量\n0         0.714286   0.7  0.25  0.617478    2\n1         0.857143   1.0  0.75  0.879200    4\n2         1.000000   0.9  0.25  0.820251    3\n3         0.857143   0.8  0.00  0.669074    2\n4         0.785714   0.9  0.75  0.813318    3\n..             ...   ...   ...       ...  ...\n375       0.571429   0.9  0.25  0.607222    2\n376       0.857143   0.8  0.75  0.818446    3\n377       0.785714   0.8  0.00  0.633569    2\n378       0.142857   0.8  0.00  0.314025    1\n379       0.571429   1.0  0.75  0.737180    3\n\n[380 rows x 5 columns]",
      "text/html": "<div>\n<style scoped>\n    .dataframe tbody tr th:only-of-type {\n        vertical-align: middle;\n    }\n\n    .dataframe tbody tr th {\n        vertical-align: top;\n    }\n\n    .dataframe thead th {\n        text-align: right;\n    }\n</style>\n<table border=\"1\" class=\"dataframe\">\n  <thead>\n    <tr style=\"text-align: right;\">\n      <th></th>\n      <th>整晚睡眠时间（时：分：秒）</th>\n      <th>睡醒次数</th>\n      <th>入睡方式</th>\n      <th>score</th>\n      <th>睡眠质量</th>\n    </tr>\n  </thead>\n  <tbody>\n    <tr>\n      <th>0</th>\n      <td>0.714286</td>\n      <td>0.7</td>\n      <td>0.25</td>\n      <td>0.617478</td>\n      <td>2</td>\n    </tr>\n    <tr>\n      <th>1</th>\n      <td>0.857143</td>\n      <td>1.0</td>\n      <td>0.75</td>\n      <td>0.879200</td>\n      <td>4</td>\n    </tr>\n    <tr>\n      <th>2</th>\n      <td>1.000000</td>\n      <td>0.9</td>\n      <td>0.25</td>\n      <td>0.820251</td>\n      <td>3</td>\n    </tr>\n    <tr>\n      <th>3</th>\n      <td>0.857143</td>\n      <td>0.8</td>\n      <td>0.00</td>\n      <td>0.669074</td>\n      <td>2</td>\n    </tr>\n    <tr>\n      <th>4</th>\n      <td>0.785714</td>\n      <td>0.9</td>\n      <td>0.75</td>\n      <td>0.813318</td>\n      <td>3</td>\n    </tr>\n    <tr>\n      <th>...</th>\n      <td>...</td>\n      <td>...</td>\n      <td>...</td>\n      <td>...</td>\n      <td>...</td>\n    </tr>\n    <tr>\n      <th>375</th>\n      <td>0.571429</td>\n      <td>0.9</td>\n      <td>0.25</td>\n      <td>0.607222</td>\n      <td>2</td>\n    </tr>\n    <tr>\n      <th>376</th>\n      <td>0.857143</td>\n      <td>0.8</td>\n      <td>0.75</td>\n      <td>0.818446</td>\n      <td>3</td>\n    </tr>\n    <tr>\n      <th>377</th>\n      <td>0.785714</td>\n      <td>0.8</td>\n      <td>0.00</td>\n      <td>0.633569</td>\n      <td>2</td>\n    </tr>\n    <tr>\n      <th>378</th>\n      <td>0.142857</td>\n      <td>0.8</td>\n      <td>0.00</td>\n      <td>0.314025</td>\n      <td>1</td>\n    </tr>\n    <tr>\n      <th>379</th>\n      <td>0.571429</td>\n      <td>1.0</td>\n      <td>0.75</td>\n      <td>0.737180</td>\n      <td>3</td>\n    </tr>\n  </tbody>\n</table>\n<p>380 rows × 5 columns</p>\n</div>"
     },
     "execution_count": 111,
     "metadata": {},
     "output_type": "execute_result"
    }
   ],
   "source": [
    "data_3_lie_380"
   ],
   "metadata": {
    "collapsed": false,
    "pycharm": {
     "name": "#%%\n"
    }
   }
  },
  {
   "cell_type": "code",
   "execution_count": 105,
   "outputs": [
    {
     "name": "stderr",
     "output_type": "stream",
     "text": [
      "\t0.9833\t = Validation score   (accuracy)\n",
      "\t0.45s\t = Training   runtime\n",
      "\t0.04s\t = Validation runtime\n",
      "Fitting model: XGBoost ...\n",
      "\t0.9833\t = Validation score   (accuracy)\n",
      "\t0.27s\t = Training   runtime\n",
      "\t0.0s\t = Validation runtime\n",
      "Fitting model: NeuralNetTorch ...\n",
      "\t1.0\t = Validation score   (accuracy)\n",
      "\t1.1s\t = Training   runtime\n",
      "\t0.01s\t = Validation runtime\n",
      "Fitting model: LightGBMLarge ...\n",
      "\t0.9833\t = Validation score   (accuracy)\n",
      "\t0.54s\t = Training   runtime\n",
      "\t0.0s\t = Validation runtime\n",
      "Fitting model: WeightedEnsemble_L2 ...\n",
      "\t1.0\t = Validation score   (accuracy)\n",
      "\t0.41s\t = Training   runtime\n",
      "\t0.0s\t = Validation runtime\n",
      "AutoGluon training complete, total runtime = 8.23s ... Best model: \"WeightedEnsemble_L2\"\n",
      "TabularPredictor saved. To load, use: predictor = TabularPredictor.load(\"AutogluonModels\\ag-20230813_020116\\\")\n",
      "No path specified. Models will be saved in: \"AutogluonModels\\ag-20230813_020125\\\"\n",
      "Beginning AutoGluon training ...\n",
      "AutoGluon will save models to \"AutogluonModels\\ag-20230813_020125\\\"\n",
      "AutoGluon Version:  0.8.2\n",
      "Python Version:     3.9.13\n",
      "Operating System:   Windows\n",
      "Platform Machine:   AMD64\n",
      "Platform Version:   10.0.19045\n",
      "Disk Space Avail:   15.38 GB / 115.76 GB (13.3%)\n",
      "Train Data Rows:    300\n",
      "Train Data Columns: 4\n",
      "Label Column: 睡眠质量\n",
      "Preprocessing data ...\n",
      "AutoGluon infers your prediction problem is: 'multiclass' (because dtype of label-column == object).\n",
      "\t4 unique label values:  ['2', '4', '3', '1']\n",
      "\tIf 'multiclass' is not the correct problem_type, please manually specify the problem_type parameter during predictor init (You may specify problem_type as one of: ['binary', 'multiclass', 'regression'])\n",
      "Train Data Class Count: 4\n",
      "Using Feature Generators to preprocess the data ...\n",
      "Fitting AutoMLPipelineFeatureGenerator...\n",
      "\tAvailable Memory:                    5358.12 MB\n",
      "\tTrain Data (Original)  Memory Usage: 0.01 MB (0.0% of available memory)\n",
      "\tInferring data type of each feature based on column values. Set feature_metadata_in to manually specify special dtypes of the features.\n",
      "\tStage 1 Generators:\n",
      "\t\tFitting AsTypeFeatureGenerator...\n",
      "\tStage 2 Generators:\n",
      "\t\tFitting FillNaFeatureGenerator...\n",
      "\tStage 3 Generators:\n",
      "\t\tFitting IdentityFeatureGenerator...\n",
      "\tStage 4 Generators:\n",
      "\t\tFitting DropUniqueFeatureGenerator...\n",
      "\tStage 5 Generators:\n",
      "\t\tFitting DropDuplicatesFeatureGenerator...\n",
      "\tTypes of features in original data (raw dtype, special dtypes):\n",
      "\t\t('float', []) : 4 | ['整晚睡眠时间（时：分：秒）', '睡醒次数', '入睡方式', 'score']\n",
      "\tTypes of features in processed data (raw dtype, special dtypes):\n",
      "\t\t('float', []) : 4 | ['整晚睡眠时间（时：分：秒）', '睡醒次数', '入睡方式', 'score']\n",
      "\t0.0s = Fit runtime\n",
      "\t4 features in original data used to generate 4 features in processed data.\n",
      "\tTrain Data (Processed) Memory Usage: 0.01 MB (0.0% of available memory)\n",
      "Data preprocessing and feature engineering runtime = 0.05s ...\n",
      "AutoGluon will gauge predictive performance using evaluation metric: 'accuracy'\n",
      "\tTo change this, specify the eval_metric parameter of Predictor()\n",
      "Automatically generating train/validation split with holdout_frac=0.2, Train Rows: 240, Val Rows: 60\n",
      "User-specified model hyperparameters to be fit:\n",
      "{\n",
      "\t'NN_TORCH': {},\n",
      "\t'GBM': [{'extra_trees': True, 'ag_args': {'name_suffix': 'XT'}}, {}, 'GBMLarge'],\n",
      "\t'CAT': {},\n",
      "\t'XGB': {},\n",
      "\t'FASTAI': {},\n",
      "\t'RF': [{'criterion': 'gini', 'ag_args': {'name_suffix': 'Gini', 'problem_types': ['binary', 'multiclass']}}, {'criterion': 'entropy', 'ag_args': {'name_suffix': 'Entr', 'problem_types': ['binary', 'multiclass']}}, {'criterion': 'squared_error', 'ag_args': {'name_suffix': 'MSE', 'problem_types': ['regression', 'quantile']}}],\n",
      "\t'XT': [{'criterion': 'gini', 'ag_args': {'name_suffix': 'Gini', 'problem_types': ['binary', 'multiclass']}}, {'criterion': 'entropy', 'ag_args': {'name_suffix': 'Entr', 'problem_types': ['binary', 'multiclass']}}, {'criterion': 'squared_error', 'ag_args': {'name_suffix': 'MSE', 'problem_types': ['regression', 'quantile']}}],\n",
      "\t'KNN': [{'weights': 'uniform', 'ag_args': {'name_suffix': 'Unif'}}, {'weights': 'distance', 'ag_args': {'name_suffix': 'Dist'}}],\n",
      "}\n",
      "Fitting 13 L1 models ...\n",
      "Fitting model: KNeighborsUnif ...\n",
      "\t0.9333\t = Validation score   (accuracy)\n",
      "\t0.01s\t = Training   runtime\n",
      "\t0.01s\t = Validation runtime\n",
      "Fitting model: KNeighborsDist ...\n",
      "\t0.9333\t = Validation score   (accuracy)\n",
      "\t0.01s\t = Training   runtime\n",
      "\t0.01s\t = Validation runtime\n",
      "Fitting model: NeuralNetFastAI ...\n",
      "No improvement since epoch 8: early stopping\n",
      "\t0.9833\t = Validation score   (accuracy)\n",
      "\t1.6s\t = Training   runtime\n",
      "\t0.01s\t = Validation runtime\n",
      "Fitting model: LightGBMXT ...\n",
      "\t1.0\t = Validation score   (accuracy)\n",
      "\t0.81s\t = Training   runtime\n",
      "\t0.0s\t = Validation runtime\n",
      "Fitting model: LightGBM ...\n",
      "\t0.9833\t = Validation score   (accuracy)\n",
      "\t0.53s\t = Training   runtime\n",
      "\t0.0s\t = Validation runtime\n",
      "Fitting model: RandomForestGini ...\n",
      "\t0.9833\t = Validation score   (accuracy)\n",
      "\t0.47s\t = Training   runtime\n",
      "\t0.04s\t = Validation runtime\n",
      "Fitting model: RandomForestEntr ...\n",
      "\t0.9833\t = Validation score   (accuracy)\n",
      "\t0.5s\t = Training   runtime\n",
      "\t0.03s\t = Validation runtime\n",
      "Fitting model: CatBoost ...\n",
      "\t0.9833\t = Validation score   (accuracy)\n",
      "\t0.52s\t = Training   runtime\n",
      "\t0.0s\t = Validation runtime\n",
      "Fitting model: ExtraTreesGini ...\n",
      "\t0.9833\t = Validation score   (accuracy)\n",
      "\t0.49s\t = Training   runtime\n",
      "\t0.04s\t = Validation runtime\n",
      "Fitting model: ExtraTreesEntr ...\n",
      "\t0.9833\t = Validation score   (accuracy)\n",
      "\t0.49s\t = Training   runtime\n",
      "\t0.05s\t = Validation runtime\n",
      "Fitting model: XGBoost ...\n",
      "\t0.9833\t = Validation score   (accuracy)\n",
      "\t0.3s\t = Training   runtime\n",
      "\t0.0s\t = Validation runtime\n",
      "Fitting model: NeuralNetTorch ...\n",
      "\t1.0\t = Validation score   (accuracy)\n",
      "\t1.1s\t = Training   runtime\n",
      "\t0.01s\t = Validation runtime\n",
      "Fitting model: LightGBMLarge ...\n",
      "\t0.9833\t = Validation score   (accuracy)\n",
      "\t0.58s\t = Training   runtime\n",
      "\t0.0s\t = Validation runtime\n",
      "Fitting model: WeightedEnsemble_L2 ...\n",
      "\t1.0\t = Validation score   (accuracy)\n",
      "\t0.41s\t = Training   runtime\n",
      "\t0.0s\t = Validation runtime\n",
      "AutoGluon training complete, total runtime = 8.3s ... Best model: \"WeightedEnsemble_L2\"\n",
      "TabularPredictor saved. To load, use: predictor = TabularPredictor.load(\"AutogluonModels\\ag-20230813_020125\\\")\n"
     ]
    }
   ],
   "source": [
    "from autogluon.tabular import TabularDataset, TabularPredictor\n",
    "\"\"\"\n",
    "进行预测检验正确率\n",
    "\"\"\"\n",
    "train_data = data_3_lie_380.iloc[0:300,:]\n",
    "test_data = data_3_lie_380.iloc[300:380,:]\n",
    "label = '睡眠质量'\n",
    "predictor = TabularPredictor(label=label).fit(train_data)\n",
    "\n"
   ],
   "metadata": {
    "collapsed": false,
    "pycharm": {
     "name": "#%%\n"
    }
   }
  },
  {
   "cell_type": "code",
   "execution_count": 106,
   "outputs": [
    {
     "data": {
      "text/plain": "     整晚睡眠时间（时：分：秒）  睡醒次数  入睡方式     score 睡眠质量\n0         0.714286   0.7  0.25  0.617478    2\n1         0.857143   1.0  0.75  0.879200    4\n2         1.000000   0.9  0.25  0.820251    3\n3         0.857143   0.8  0.00  0.669074    2\n4         0.785714   0.9  0.75  0.813318    3\n..             ...   ...   ...       ...  ...\n295       0.428571   0.7  0.25  0.475458    1\n296       0.714286   1.0  0.25  0.708609    3\n297       1.000000   1.0  0.25  0.850628    4\n298       0.785714   0.5  0.75  0.691810    2\n299       0.714286   0.8  0.50  0.697645    2\n\n[300 rows x 5 columns]",
      "text/html": "<div>\n<style scoped>\n    .dataframe tbody tr th:only-of-type {\n        vertical-align: middle;\n    }\n\n    .dataframe tbody tr th {\n        vertical-align: top;\n    }\n\n    .dataframe thead th {\n        text-align: right;\n    }\n</style>\n<table border=\"1\" class=\"dataframe\">\n  <thead>\n    <tr style=\"text-align: right;\">\n      <th></th>\n      <th>整晚睡眠时间（时：分：秒）</th>\n      <th>睡醒次数</th>\n      <th>入睡方式</th>\n      <th>score</th>\n      <th>睡眠质量</th>\n    </tr>\n  </thead>\n  <tbody>\n    <tr>\n      <th>0</th>\n      <td>0.714286</td>\n      <td>0.7</td>\n      <td>0.25</td>\n      <td>0.617478</td>\n      <td>2</td>\n    </tr>\n    <tr>\n      <th>1</th>\n      <td>0.857143</td>\n      <td>1.0</td>\n      <td>0.75</td>\n      <td>0.879200</td>\n      <td>4</td>\n    </tr>\n    <tr>\n      <th>2</th>\n      <td>1.000000</td>\n      <td>0.9</td>\n      <td>0.25</td>\n      <td>0.820251</td>\n      <td>3</td>\n    </tr>\n    <tr>\n      <th>3</th>\n      <td>0.857143</td>\n      <td>0.8</td>\n      <td>0.00</td>\n      <td>0.669074</td>\n      <td>2</td>\n    </tr>\n    <tr>\n      <th>4</th>\n      <td>0.785714</td>\n      <td>0.9</td>\n      <td>0.75</td>\n      <td>0.813318</td>\n      <td>3</td>\n    </tr>\n    <tr>\n      <th>...</th>\n      <td>...</td>\n      <td>...</td>\n      <td>...</td>\n      <td>...</td>\n      <td>...</td>\n    </tr>\n    <tr>\n      <th>295</th>\n      <td>0.428571</td>\n      <td>0.7</td>\n      <td>0.25</td>\n      <td>0.475458</td>\n      <td>1</td>\n    </tr>\n    <tr>\n      <th>296</th>\n      <td>0.714286</td>\n      <td>1.0</td>\n      <td>0.25</td>\n      <td>0.708609</td>\n      <td>3</td>\n    </tr>\n    <tr>\n      <th>297</th>\n      <td>1.000000</td>\n      <td>1.0</td>\n      <td>0.25</td>\n      <td>0.850628</td>\n      <td>4</td>\n    </tr>\n    <tr>\n      <th>298</th>\n      <td>0.785714</td>\n      <td>0.5</td>\n      <td>0.75</td>\n      <td>0.691810</td>\n      <td>2</td>\n    </tr>\n    <tr>\n      <th>299</th>\n      <td>0.714286</td>\n      <td>0.8</td>\n      <td>0.50</td>\n      <td>0.697645</td>\n      <td>2</td>\n    </tr>\n  </tbody>\n</table>\n<p>300 rows × 5 columns</p>\n</div>"
     },
     "execution_count": 106,
     "metadata": {},
     "output_type": "execute_result"
    }
   ],
   "source": [
    "train_data"
   ],
   "metadata": {
    "collapsed": false,
    "pycharm": {
     "name": "#%%\n"
    }
   }
  },
  {
   "cell_type": "code",
   "execution_count": 107,
   "outputs": [
    {
     "data": {
      "text/plain": "300    2\n301    3\n302    3\n303    3\n304    3\n      ..\n375    2\n376    3\n377    2\n378    1\n379    3\nName: 睡眠质量, Length: 80, dtype: object"
     },
     "execution_count": 107,
     "metadata": {},
     "output_type": "execute_result"
    }
   ],
   "source": [
    "y_pred = predictor.predict(test_data.drop(columns=[label]))\n",
    "y_pred"
   ],
   "metadata": {
    "collapsed": false,
    "pycharm": {
     "name": "#%%\n"
    }
   }
  },
  {
   "cell_type": "code",
   "execution_count": 108,
   "outputs": [
    {
     "data": {
      "text/plain": "                  model  score_test  score_val  pred_time_test  pred_time_val  \\\n0         LightGBMLarge      0.9875   0.983333        0.001000       0.001000   \n1              LightGBM      0.9875   0.983333        0.002000       0.001000   \n2        NeuralNetTorch      0.9875   1.000000        0.007002       0.005004   \n3        KNeighborsDist      0.9875   0.933333        0.009001       0.012004   \n4            LightGBMXT      0.9875   1.000000        0.012003       0.002000   \n5   WeightedEnsemble_L2      0.9875   1.000000        0.014004       0.003000   \n6               XGBoost      0.9875   0.983333        0.019002       0.003003   \n7      RandomForestEntr      0.9875   0.983333        0.048011       0.033005   \n8        ExtraTreesGini      0.9875   0.983333        0.050012       0.041009   \n9      RandomForestGini      0.9875   0.983333        0.056013       0.035007   \n10       ExtraTreesEntr      0.9750   0.983333        0.049012       0.045009   \n11       KNeighborsUnif      0.9500   0.933333        0.012005       0.011009   \n12      NeuralNetFastAI      0.9500   0.983333        0.017002       0.010003   \n13             CatBoost      0.9375   0.983333        0.002000       0.001001   \n\n    fit_time  pred_time_test_marginal  pred_time_val_marginal  \\\n0   0.580653                 0.001000                0.001000   \n1   0.532314                 0.002000                0.001000   \n2   1.096410                 0.007002                0.005004   \n3   0.005001                 0.009001                0.012004   \n4   0.812316                 0.012003                0.002000   \n5   1.225564                 0.002001                0.001000   \n6   0.299288                 0.019002                0.003003   \n7   0.498244                 0.048011                0.033005   \n8   0.485257                 0.050012                0.041009   \n9   0.474107                 0.056013                0.035007   \n10  0.490112                 0.049012                0.045009   \n11  0.005574                 0.012005                0.011009   \n12  1.601488                 0.017002                0.010003   \n13  0.521118                 0.002000                0.001001   \n\n    fit_time_marginal  stack_level  can_infer  fit_order  \n0            0.580653            1       True         13  \n1            0.532314            1       True          5  \n2            1.096410            1       True         12  \n3            0.005001            1       True          2  \n4            0.812316            1       True          4  \n5            0.413249            2       True         14  \n6            0.299288            1       True         11  \n7            0.498244            1       True          7  \n8            0.485257            1       True          9  \n9            0.474107            1       True          6  \n10           0.490112            1       True         10  \n11           0.005574            1       True          1  \n12           1.601488            1       True          3  \n13           0.521118            1       True          8  ",
      "text/html": "<div>\n<style scoped>\n    .dataframe tbody tr th:only-of-type {\n        vertical-align: middle;\n    }\n\n    .dataframe tbody tr th {\n        vertical-align: top;\n    }\n\n    .dataframe thead th {\n        text-align: right;\n    }\n</style>\n<table border=\"1\" class=\"dataframe\">\n  <thead>\n    <tr style=\"text-align: right;\">\n      <th></th>\n      <th>model</th>\n      <th>score_test</th>\n      <th>score_val</th>\n      <th>pred_time_test</th>\n      <th>pred_time_val</th>\n      <th>fit_time</th>\n      <th>pred_time_test_marginal</th>\n      <th>pred_time_val_marginal</th>\n      <th>fit_time_marginal</th>\n      <th>stack_level</th>\n      <th>can_infer</th>\n      <th>fit_order</th>\n    </tr>\n  </thead>\n  <tbody>\n    <tr>\n      <th>0</th>\n      <td>LightGBMLarge</td>\n      <td>0.9875</td>\n      <td>0.983333</td>\n      <td>0.001000</td>\n      <td>0.001000</td>\n      <td>0.580653</td>\n      <td>0.001000</td>\n      <td>0.001000</td>\n      <td>0.580653</td>\n      <td>1</td>\n      <td>True</td>\n      <td>13</td>\n    </tr>\n    <tr>\n      <th>1</th>\n      <td>LightGBM</td>\n      <td>0.9875</td>\n      <td>0.983333</td>\n      <td>0.002000</td>\n      <td>0.001000</td>\n      <td>0.532314</td>\n      <td>0.002000</td>\n      <td>0.001000</td>\n      <td>0.532314</td>\n      <td>1</td>\n      <td>True</td>\n      <td>5</td>\n    </tr>\n    <tr>\n      <th>2</th>\n      <td>NeuralNetTorch</td>\n      <td>0.9875</td>\n      <td>1.000000</td>\n      <td>0.007002</td>\n      <td>0.005004</td>\n      <td>1.096410</td>\n      <td>0.007002</td>\n      <td>0.005004</td>\n      <td>1.096410</td>\n      <td>1</td>\n      <td>True</td>\n      <td>12</td>\n    </tr>\n    <tr>\n      <th>3</th>\n      <td>KNeighborsDist</td>\n      <td>0.9875</td>\n      <td>0.933333</td>\n      <td>0.009001</td>\n      <td>0.012004</td>\n      <td>0.005001</td>\n      <td>0.009001</td>\n      <td>0.012004</td>\n      <td>0.005001</td>\n      <td>1</td>\n      <td>True</td>\n      <td>2</td>\n    </tr>\n    <tr>\n      <th>4</th>\n      <td>LightGBMXT</td>\n      <td>0.9875</td>\n      <td>1.000000</td>\n      <td>0.012003</td>\n      <td>0.002000</td>\n      <td>0.812316</td>\n      <td>0.012003</td>\n      <td>0.002000</td>\n      <td>0.812316</td>\n      <td>1</td>\n      <td>True</td>\n      <td>4</td>\n    </tr>\n    <tr>\n      <th>5</th>\n      <td>WeightedEnsemble_L2</td>\n      <td>0.9875</td>\n      <td>1.000000</td>\n      <td>0.014004</td>\n      <td>0.003000</td>\n      <td>1.225564</td>\n      <td>0.002001</td>\n      <td>0.001000</td>\n      <td>0.413249</td>\n      <td>2</td>\n      <td>True</td>\n      <td>14</td>\n    </tr>\n    <tr>\n      <th>6</th>\n      <td>XGBoost</td>\n      <td>0.9875</td>\n      <td>0.983333</td>\n      <td>0.019002</td>\n      <td>0.003003</td>\n      <td>0.299288</td>\n      <td>0.019002</td>\n      <td>0.003003</td>\n      <td>0.299288</td>\n      <td>1</td>\n      <td>True</td>\n      <td>11</td>\n    </tr>\n    <tr>\n      <th>7</th>\n      <td>RandomForestEntr</td>\n      <td>0.9875</td>\n      <td>0.983333</td>\n      <td>0.048011</td>\n      <td>0.033005</td>\n      <td>0.498244</td>\n      <td>0.048011</td>\n      <td>0.033005</td>\n      <td>0.498244</td>\n      <td>1</td>\n      <td>True</td>\n      <td>7</td>\n    </tr>\n    <tr>\n      <th>8</th>\n      <td>ExtraTreesGini</td>\n      <td>0.9875</td>\n      <td>0.983333</td>\n      <td>0.050012</td>\n      <td>0.041009</td>\n      <td>0.485257</td>\n      <td>0.050012</td>\n      <td>0.041009</td>\n      <td>0.485257</td>\n      <td>1</td>\n      <td>True</td>\n      <td>9</td>\n    </tr>\n    <tr>\n      <th>9</th>\n      <td>RandomForestGini</td>\n      <td>0.9875</td>\n      <td>0.983333</td>\n      <td>0.056013</td>\n      <td>0.035007</td>\n      <td>0.474107</td>\n      <td>0.056013</td>\n      <td>0.035007</td>\n      <td>0.474107</td>\n      <td>1</td>\n      <td>True</td>\n      <td>6</td>\n    </tr>\n    <tr>\n      <th>10</th>\n      <td>ExtraTreesEntr</td>\n      <td>0.9750</td>\n      <td>0.983333</td>\n      <td>0.049012</td>\n      <td>0.045009</td>\n      <td>0.490112</td>\n      <td>0.049012</td>\n      <td>0.045009</td>\n      <td>0.490112</td>\n      <td>1</td>\n      <td>True</td>\n      <td>10</td>\n    </tr>\n    <tr>\n      <th>11</th>\n      <td>KNeighborsUnif</td>\n      <td>0.9500</td>\n      <td>0.933333</td>\n      <td>0.012005</td>\n      <td>0.011009</td>\n      <td>0.005574</td>\n      <td>0.012005</td>\n      <td>0.011009</td>\n      <td>0.005574</td>\n      <td>1</td>\n      <td>True</td>\n      <td>1</td>\n    </tr>\n    <tr>\n      <th>12</th>\n      <td>NeuralNetFastAI</td>\n      <td>0.9500</td>\n      <td>0.983333</td>\n      <td>0.017002</td>\n      <td>0.010003</td>\n      <td>1.601488</td>\n      <td>0.017002</td>\n      <td>0.010003</td>\n      <td>1.601488</td>\n      <td>1</td>\n      <td>True</td>\n      <td>3</td>\n    </tr>\n    <tr>\n      <th>13</th>\n      <td>CatBoost</td>\n      <td>0.9375</td>\n      <td>0.983333</td>\n      <td>0.002000</td>\n      <td>0.001001</td>\n      <td>0.521118</td>\n      <td>0.002000</td>\n      <td>0.001001</td>\n      <td>0.521118</td>\n      <td>1</td>\n      <td>True</td>\n      <td>8</td>\n    </tr>\n  </tbody>\n</table>\n</div>"
     },
     "execution_count": 108,
     "metadata": {},
     "output_type": "execute_result"
    }
   ],
   "source": [
    "\"\"\"\n",
    "模型检验\n",
    "\"\"\"\n",
    "predictor.leaderboard(test_data, silent=True)"
   ],
   "metadata": {
    "collapsed": false,
    "pycharm": {
     "name": "#%%\n"
    }
   }
  }
 ],
 "metadata": {
  "kernelspec": {
   "display_name": "Python 3",
   "language": "python",
   "name": "python3"
  },
  "language_info": {
   "codemirror_mode": {
    "name": "ipython",
    "version": 2
   },
   "file_extension": ".py",
   "mimetype": "text/x-python",
   "name": "python",
   "nbconvert_exporter": "python",
   "pygments_lexer": "ipython2",
   "version": "2.7.6"
  }
 },
 "nbformat": 4,
 "nbformat_minor": 0
}